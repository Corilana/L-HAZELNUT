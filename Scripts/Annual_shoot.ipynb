{
 "cells": [
  {
   "cell_type": "markdown",
   "id": "ede5c4f6-7e18-4f2b-b552-57fcd25cf632",
   "metadata": {},
   "source": [
    "# Exploratory analysis of annual shoot"
   ]
  },
  {
   "cell_type": "markdown",
   "id": "19a62e89-bb34-46b7-bbf3-06759840254e",
   "metadata": {},
   "source": [
    "- AIM1: freq dist per each rank --> nb of shoots\n",
    "- AIM2: relationship length (node) ~ length (cm)\n",
    "- AIM3: relationship length(cm) ~ diameter (mm)"
   ]
  },
  {
   "cell_type": "code",
   "execution_count": 1,
   "id": "e12b2978-c6df-4450-a068-0ed5cf936d8e",
   "metadata": {},
   "outputs": [],
   "source": [
    "import pandas as pd\n",
    "import matplotlib.pyplot as plt\n",
    "from scipy.optimize import curve_fit\n",
    "import numpy as np"
   ]
  },
  {
   "cell_type": "code",
   "execution_count": 2,
   "id": "b7ee88fd-2401-49e4-b406-9c3f713e4cfe",
   "metadata": {},
   "outputs": [],
   "source": [
    "def compute_freq_rank(shoot_df: pd.DataFrame, node_col = str):\n",
    "    max_node = shoot_df[node_col].max()\n",
    "    freq_rank = pd.DataFrame({'nb_shoots': [shoot_df[shoot_df[node_col] == i][node_col].count() for i in range(1, max_node + 1)]})\n",
    "    return freq_rank"
   ]
  },
  {
   "cell_type": "code",
   "execution_count": 3,
   "id": "4c10c553-0649-4949-9d0b-e46cde246812",
   "metadata": {},
   "outputs": [],
   "source": [
    "def length_distribution(df: pd.DataFrame, max_nodes = int, title: str = 'Length distribution of annual shoots',\n",
    "                       xlabel: str = 'Length (nodes)', ylabel: str = 'Nb of shoots'):\n",
    "    plt.bar(df.index, df['nb_shoots'])\n",
    "    plt.title(title)\n",
    "    plt.xlabel(xlabel)\n",
    "    plt.ylabel(ylabel)\n",
    "    plt.ylim(0, max_nodes)\n",
    "    return plt"
   ]
  },
  {
   "cell_type": "code",
   "execution_count": 4,
   "id": "caa595c7-4c5f-44ee-b5e9-a38611eb97b2",
   "metadata": {},
   "outputs": [],
   "source": [
    "def length_nbnodes(df: pd.DataFrame, class_column: str, x_column: str,\n",
    "                   y_column: str, size: int, \n",
    "                   title: str = 'Relationship #node/length',\n",
    "                   xlabel: str = 'Parent length (cm)', ylabel: str = 'Parent #nodes'):\n",
    "    for class_level, marker in zip(df['class'].unique(), ['o', '^', 's', 'p']):\n",
    "        subset = df[df[class_column] == class_level]\n",
    "        plt.scatter(subset[x_column], subset[y_column], marker=marker, label=class_level, s=size)\n",
    "    plt.title(title)\n",
    "    plt.xlabel(xlabel)\n",
    "    plt.ylabel(ylabel)\n",
    "    plt.legend(title='Class')\n",
    "    return plt"
   ]
  },
  {
   "cell_type": "code",
   "execution_count": 6,
   "id": "58b0014d-990d-4719-88ac-ceddccd9a42b",
   "metadata": {},
   "outputs": [],
   "source": [
    "def model_func(x, a, b):\n",
    "    return a * (x ** b)\n",
    "\n",
    "def len_diamet(data, xcol = \"length\", ycol = \"diam\"):\n",
    "\n",
    "    # Prepara i dati\n",
    "    xdata = shoot[xcol]\n",
    "    ydata = shoot[ycol]\n",
    "    \n",
    "    # Esegui il fitting del modello ai dati\n",
    "    # `popt` conterrà i parametri ottimizzati (a e b in questo caso)\n",
    "    popt, pcov = curve_fit(model_func, xdata, ydata, p0=[1, 1])\n",
    "\n",
    "    # Usa i parametri ottimizzati per predire i valori di y\n",
    "    xrange = np.linspace(0, 75, 100)\n",
    "    y_pred = model_func(xrange, *popt)\n",
    "\n",
    "    # plot data and model\n",
    "    plt.scatter(xdata, ydata, label='Data')\n",
    "    plt.plot(xrange, y_pred, color='red', linewidth=2, label='Fitted model')\n",
    "    plt.xlabel(xcol)\n",
    "    plt.ylabel(ycol)\n",
    "    plt.legend()\n",
    "    plt.show()\n",
    "\n",
    "    print(f\"Parameters: a={popt[0]:.2f}, b={popt[1]:.2f}\")\n"
   ]
  },
  {
   "cell_type": "code",
   "execution_count": null,
   "id": "5733c399-00e9-404f-8ba2-fd03ef7c11c1",
   "metadata": {},
   "outputs": [],
   "source": []
  }
 ],
 "metadata": {
  "kernelspec": {
   "display_name": "Python 3 (ipykernel)",
   "language": "python",
   "name": "python3"
  },
  "language_info": {
   "codemirror_mode": {
    "name": "ipython",
    "version": 3
   },
   "file_extension": ".py",
   "mimetype": "text/x-python",
   "name": "python",
   "nbconvert_exporter": "python",
   "pygments_lexer": "ipython3",
   "version": "3.9.19"
  }
 },
 "nbformat": 4,
 "nbformat_minor": 5
}
