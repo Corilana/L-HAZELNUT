{
 "cells": [
  {
   "cell_type": "markdown",
   "id": "b93633be-3052-4e6b-afbe-e9a96369b094",
   "metadata": {},
   "source": [
    "Script with the functions of finals GLMs used to create L-HAZELNUT model. "
   ]
  },
  {
   "cell_type": "code",
   "execution_count": null,
   "id": "fa41d823-d3d4-4d8e-abcb-6feb07e92f37",
   "metadata": {},
   "outputs": [],
   "source": [
    "import pandas as pd\n",
    "import statsmodels.api as sm\n",
    "import numpy as np\n",
    "import matplotlib.pyplot as plt\n",
    "from scipy.stats import norm\n"
   ]
  },
  {
   "cell_type": "code",
   "execution_count": null,
   "id": "b89aac76-e2d6-40e3-b88f-688d70e6550c",
   "metadata": {},
   "outputs": [],
   "source": [
    "def length_nbnodes(shoot):\n",
    "    # Creazione delle colonne polinomiali\n",
    "    shoot['length_05'] = shoot['length']**0.5\n",
    "    shoot['length_2'] = shoot['length']**2\n",
    "\n",
    "    # Definizione delle variabili indipendenti e dipendenti\n",
    "    X = shoot[['length_05', 'length_2']]\n",
    "    y = shoot['node']\n",
    "\n",
    "    # Aggiunta dell'intercetta (costante) al modello\n",
    "    X = sm.add_constant(X, has_constant='add')\n",
    "\n",
    "    # Creazione e addestramento del modello di regressione lineare\n",
    "    model = sm.OLS(y, X).fit()\n",
    "\n",
    "    # Stampa del sommario del modello\n",
    "    sum = model.summary()\n",
    "    print(sum)\n",
    "\n",
    "    # Calcolo dell'AIC del modello\n",
    "    aic = model.aic\n",
    "    print(\"AIC:\", aic)\n",
    "\n",
    "    return model"
   ]
  },
  {
   "cell_type": "code",
   "execution_count": null,
   "id": "21a9a6b5-bf41-457f-8089-429b1c2594f6",
   "metadata": {},
   "outputs": [],
   "source": [
    "def plot_length_nbnodes(shoot, model, xlim=None):\n",
    "    # Creazione delle colonne polinomiali\n",
    "    shoot['length_05'] = shoot['length']**0.5\n",
    "    shoot['length_2'] = shoot['length']**2\n",
    "\n",
    "    # Creazione del nuovo asse x per le previsioni\n",
    "    if xlim is None:\n",
    "        xlim = (0, shoot['length'].max())\n",
    "    new_x = np.linspace(xlim[0], xlim[1], 100)\n",
    "    \n",
    "    # Creazione del DataFrame per le nuove previsioni\n",
    "    new_data = pd.DataFrame({\n",
    "        'length': new_x,\n",
    "        'length_05': new_x**0.5,\n",
    "        'length_2': new_x**2\n",
    "    })\n",
    "    \n",
    "    new_data = sm.add_constant(new_data, has_constant='add')\n",
    "\n",
    "    # Previsioni dal modello\n",
    "    pred = model.get_prediction(new_data)\n",
    "    summary_frame = pred.summary_frame(alpha=0.05)\n",
    "    new_y = summary_frame['mean']\n",
    "    upr = summary_frame['mean_ci_upper']\n",
    "    lwr = summary_frame['mean_ci_lower']\n",
    "    \n",
    "    # Creazione del grafico\n",
    "    plt.figure(figsize=(12, 9))\n",
    "    plt.scatter(shoot['length'], shoot['node'], color='blue', label='Observed data')\n",
    "    plt.plot(new_x, new_y, color='black', linewidth=2, label='Fitted line')\n",
    "    plt.fill_between(new_x, lwr, upr, color='grey', alpha=0.5, label='95% Prediction interval')\n",
    "    \n",
    "    plt.xlabel('length(cm)')\n",
    "    plt.ylabel('length(node)')\n",
    "    plt.title('length(cm) vs length(node)')\n",
    "    plt.legend()\n",
    "    plt.show()"
   ]
  }
 ],
 "metadata": {
  "kernelspec": {
   "display_name": "Python 3 (ipykernel)",
   "language": "python",
   "name": "python3"
  },
  "language_info": {
   "codemirror_mode": {
    "name": "ipython",
    "version": 3
   },
   "file_extension": ".py",
   "mimetype": "text/x-python",
   "name": "python",
   "nbconvert_exporter": "python",
   "pygments_lexer": "ipython3",
   "version": "3.9.19"
  }
 },
 "nbformat": 4,
 "nbformat_minor": 5
}
