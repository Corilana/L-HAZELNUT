{
 "cells": [
  {
   "cell_type": "markdown",
   "id": "2111706f-021c-4056-a8ed-3ea0218ba589",
   "metadata": {},
   "source": [
    "# AIM: split the dataframes into proleptic and sylleptic & modify proleptic"
   ]
  },
  {
   "cell_type": "code",
   "execution_count": 1,
   "id": "3f158598-ef1f-4ae5-8a54-975df986c5d8",
   "metadata": {},
   "outputs": [],
   "source": [
    "import pandas as pd"
   ]
  },
  {
   "cell_type": "code",
   "execution_count": 3,
   "id": "6e7643c5-8f32-4bdc-870d-8c8e016f0174",
   "metadata": {},
   "outputs": [],
   "source": [
    "def importdataset(bud, bud_proleptic, bud_sylleptic, MV_bud_pro, MV_bud_syl, met_proleptic,\n",
    "                  met_sylleptic, all_met_proleptic, all_met_sylleptic, shoot):\n",
    "    '''\n",
    "    Import multiple CSV files and store them in a dictionary.\n",
    "    \n",
    "    Parameters:\n",
    "    bud (str): Path to bud.csv\n",
    "    bud_proleptic (str): Path to bud_proleptic.csv\n",
    "    bud_sylleptic (str): Path to bud_sylleptic.csv\n",
    "    MV_bud_pro (str): Path to MV_bud_pro.csv\n",
    "    MV_bud_syl (str): Path to MV_bud_syl.csv\n",
    "    met_proleptic (str): Path to met_proleptic.csv\n",
    "    met_sylleptic (str): Path to met_sylleptic.csv\n",
    "    all_met_proleptic (str): Path to all_met_proleptic.csv\n",
    "    all_met_sylleptic (str): Path to all_met_sylleptic.csv\n",
    "    shoot (str): Path to shoot.csv\n",
    "    \n",
    "    Returns:\n",
    "    dict: Dictionary containing all imported DataFrames.\n",
    "    '''\n",
    "    data = {\n",
    "        'bud': pd.read_csv(bud),\n",
    "        'bud_proleptic': pd.read_csv(bud_proleptic),\n",
    "        'bud_sylleptic': pd.read_csv(bud_sylleptic),\n",
    "        'MV_bud_PRO': pd.read_csv(MV_bud_pro),\n",
    "        'MV_bud_SYL': pd.read_csv(MV_bud_syl),\n",
    "        'met_proleptic': pd.read_csv(met_proleptic),\n",
    "        'met_sylleptic': pd.read_csv(met_sylleptic),\n",
    "        'met_all_proleptic': pd.read_csv(all_met_proleptic),\n",
    "        'met_all_sylleptic': pd.read_csv(all_met_sylleptic),\n",
    "        'shoot': pd.read_csv(shoot)\n",
    "    }    \n",
    "    return data"
   ]
  }
 ],
 "metadata": {
  "kernelspec": {
   "display_name": "Python 3 (ipykernel)",
   "language": "python",
   "name": "python3"
  },
  "language_info": {
   "codemirror_mode": {
    "name": "ipython",
    "version": 3
   },
   "file_extension": ".py",
   "mimetype": "text/x-python",
   "name": "python",
   "nbconvert_exporter": "python",
   "pygments_lexer": "ipython3",
   "version": "3.9.19"
  }
 },
 "nbformat": 4,
 "nbformat_minor": 5
}
