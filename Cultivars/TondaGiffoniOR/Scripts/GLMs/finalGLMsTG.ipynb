{
 "cells": [
  {
   "cell_type": "markdown",
   "id": "ca563935-ce4f-4d35-95fb-d05d847e8a67",
   "metadata": {},
   "source": [
    "## Script with the finals GLMs used to create L-HAZELNUT model. \n",
    "data: DERUTA 2020\n",
    "PhD: Francesca Grisafi"
   ]
  },
  {
   "cell_type": "code",
   "execution_count": 1,
   "id": "2f5b5ad0-8940-4008-b5c9-029acfb19efd",
   "metadata": {},
   "outputs": [],
   "source": [
    "import importnb\n",
    "import sys\n",
    "import pandas as pd\n",
    "import os"
   ]
  },
  {
   "cell_type": "code",
   "execution_count": 2,
   "id": "514df305-8e62-40fc-b1c0-0431b6327a8c",
   "metadata": {},
   "outputs": [],
   "source": [
    "def find_dir(start_path, last_folder):\n",
    "    '''\n",
    "    This function traverses up the directory tree from the starting path\n",
    "    until it finds a directory that ends with the specified folder name.\n",
    "\n",
    "    Parameters:\n",
    "    - start_path (str): The starting directory path.\n",
    "    - last_folder (str): The folder name to look for at the end of the directory.\n",
    "\n",
    "    Returns:\n",
    "    - str: The path of the repo directory if found, otherwise None.\n",
    "    '''\n",
    "    current_path = start_path\n",
    "    while True:\n",
    "        if current_path.endswith(f\"\\\\{last_folder}\"):\n",
    "            #print(f\"{current_path} is {last_folder} path\")\n",
    "            return current_path\n",
    "        else:\n",
    "            #print(f\"{current_path} is not the {last_folder} directory\")\n",
    "            parent_path = os.path.dirname(current_path)\n",
    "            if parent_path == current_path:  # If we've reached the root directory\n",
    "                #print(f\"Reached the root directory without finding the {last_folder} directory\")\n",
    "                return None\n",
    "            current_path = parent_path"
   ]
  },
  {
   "cell_type": "code",
   "execution_count": 3,
   "id": "0b44712b-3413-4dd3-b7d8-f82078e99962",
   "metadata": {},
   "outputs": [],
   "source": [
    "#directory corrente\n",
    "current_dir = os.path.abspath('')\n",
    "import_path = find_dir(current_dir, \"L-HAZELNUT\")\n",
    "import_path = os.path.join(import_path,\"Scripts\")\n",
    "sys.path.append(import_path)"
   ]
  },
  {
   "cell_type": "code",
   "execution_count": 4,
   "id": "4c515a08-4a76-49cf-ace0-11c58a2e7e3d",
   "metadata": {},
   "outputs": [
    {
     "name": "stdout",
     "output_type": "stream",
     "text": [
      "File presenti nella directory:\n",
      "['.ipynb_checkpoints', 'Annual_shoot.py', 'GLMs', 'Import_Dataset.py', 'Lateral_buds.py', '__init__.py', '__pycache__']\n"
     ]
    }
   ],
   "source": [
    "files = os.listdir(import_path)\n",
    "print(\"File presenti nella directory:\")\n",
    "print(files)"
   ]
  },
  {
   "cell_type": "code",
   "execution_count": 5,
   "id": "a178ada9-a951-410b-aa77-40ae1fb09e2e",
   "metadata": {},
   "outputs": [],
   "source": [
    "import Import_Dataset"
   ]
  },
  {
   "cell_type": "code",
   "execution_count": 6,
   "id": "07befa40-7e91-4830-a0f4-d74a4f272443",
   "metadata": {},
   "outputs": [
    {
     "name": "stdout",
     "output_type": "stream",
     "text": [
      "File presenti nella directory:\n",
      "['final_models_functions.py', 'final_models_plots.py', '__init__.py', '__pycache__']\n"
     ]
    }
   ],
   "source": [
    "import_path = os.path.join(import_path,\"GLMs\")\n",
    "sys.path.append(import_path)\n",
    "files = os.listdir(import_path)\n",
    "print(\"File presenti nella directory:\")\n",
    "print(files)"
   ]
  },
  {
   "cell_type": "code",
   "execution_count": 7,
   "id": "13ef0359-0bcd-4a29-ae95-f919f9dbf09e",
   "metadata": {},
   "outputs": [],
   "source": [
    "import final_models_functions"
   ]
  },
  {
   "cell_type": "code",
   "execution_count": 8,
   "id": "7c8525dd-96ed-4efa-953d-fe476c1074a3",
   "metadata": {},
   "outputs": [],
   "source": [
    "file_paths = {\n",
    "    'bud': \"../../Data/bud.csv\",\n",
    "    'bud_proleptic': '../../Data/bud_proleptic.csv',\n",
    "    'bud_sylleptic': '../../Data/bud_sylleptic.csv',\n",
    "    'MV_bud_pro': '../../Data/MV_bud_pro.csv',\n",
    "    'MV_bud_syl': '../../Data/MV_bud_syl.csv',\n",
    "    'met_proleptic': '../../Data/met_proleptic.csv',\n",
    "    'met_sylleptic': '../../Data/met_sylleptic.csv',\n",
    "    'all_met_proleptic': '../../Data/all_met_proleptic.csv',\n",
    "    'all_met_sylleptic': '../../Data/all_met_sylleptic.csv',\n",
    "    'shoot': '../../Data/shoot.csv'\n",
    "}\n",
    "\n",
    "data = Import_Dataset.importdataset(**file_paths)"
   ]
  },
  {
   "cell_type": "code",
   "execution_count": 9,
   "id": "3621eafc-765f-470f-aed2-450e8f5658b7",
   "metadata": {},
   "outputs": [
    {
     "name": "stdout",
     "output_type": "stream",
     "text": [
      "bud\n",
      "bud_proleptic\n",
      "bud_sylleptic\n",
      "MV_bud_PRO\n",
      "MV_bud_SYL\n",
      "met_proleptic\n",
      "met_sylleptic\n",
      "met_all_proleptic\n",
      "met_all_sylleptic\n",
      "shoot\n"
     ]
    }
   ],
   "source": [
    "for name,dict_ in data.items():\n",
    "    print(name)\n",
    "    globals()[name] = dict_"
   ]
  },
  {
   "cell_type": "markdown",
   "id": "0b6f5dfa-aac9-4d8d-953c-35c89a5cc20e",
   "metadata": {},
   "source": [
    "#### function for the relationship between length in cm and length in "
   ]
  },
  {
   "cell_type": "code",
   "execution_count": 10,
   "id": "7a979c89-3eaf-4a25-a91f-f53a9b730af1",
   "metadata": {},
   "outputs": [
    {
     "name": "stdout",
     "output_type": "stream",
     "text": [
      "                                 OLS Regression Results                                \n",
      "=======================================================================================\n",
      "Dep. Variable:                   node   R-squared (uncentered):                   0.976\n",
      "Model:                            OLS   Adj. R-squared (uncentered):              0.976\n",
      "Method:                 Least Squares   F-statistic:                              2107.\n",
      "Date:                Fri, 07 Jun 2024   Prob (F-statistic):                    1.11e-83\n",
      "Time:                        13:52:12   Log-Likelihood:                         -207.78\n",
      "No. Observations:                 104   AIC:                                      419.6\n",
      "Df Residuals:                     102   BIC:                                      424.8\n",
      "Df Model:                           2                                                  \n",
      "Covariance Type:            nonrobust                                                  \n",
      "==============================================================================\n",
      "                 coef    std err          t      P>|t|      [0.025      0.975]\n",
      "------------------------------------------------------------------------------\n",
      "length_05      2.1620      0.075     28.873      0.000       2.014       2.311\n",
      "length_2       0.0008      0.000      2.879      0.005       0.000       0.001\n",
      "==============================================================================\n",
      "Omnibus:                        4.702   Durbin-Watson:                   1.635\n",
      "Prob(Omnibus):                  0.095   Jarque-Bera (JB):                4.168\n",
      "Skew:                           0.374   Prob(JB):                        0.124\n",
      "Kurtosis:                       3.635   Cond. No.                         582.\n",
      "==============================================================================\n",
      "\n",
      "Notes:\n",
      "[1] R² is computed without centering (uncentered) since the model does not contain a constant.\n",
      "[2] Standard Errors assume that the covariance matrix of the errors is correctly specified.\n",
      "Residual Standard Error (RSE): 1.8015158451230233\n",
      "AIC shootnbnodesfromlength_proba: 419.5544508876757\n"
     ]
    },
    {
     "data": {
      "text/plain": [
       "<statsmodels.regression.linear_model.RegressionResultsWrapper at 0x17e29e71100>"
      ]
     },
     "execution_count": 10,
     "metadata": {},
     "output_type": "execute_result"
    }
   ],
   "source": [
    "final_models_functions.shootnbnodesfromlength_proba(shoot)"
   ]
  },
  {
   "cell_type": "markdown",
   "id": "c7d7eb07-44d4-4a0b-9bf6-f44e4ddb0a9f",
   "metadata": {},
   "source": [
    "#### has_blind_node"
   ]
  },
  {
   "cell_type": "code",
   "execution_count": 11,
   "id": "35115828-6813-47d9-a986-9644d38b7122",
   "metadata": {},
   "outputs": [
    {
     "name": "stdout",
     "output_type": "stream",
     "text": [
      "                 Generalized Linear Model Regression Results                  \n",
      "==============================================================================\n",
      "Dep. Variable:                      b   No. Observations:                 1062\n",
      "Model:                            GLM   Df Residuals:                     1061\n",
      "Model Family:                Binomial   Df Model:                            0\n",
      "Link Function:                  Logit   Scale:                          1.0000\n",
      "Method:                          IRLS   Log-Likelihood:                -288.29\n",
      "Date:                Fri, 07 Jun 2024   Deviance:                       576.58\n",
      "Time:                        13:52:12   Pearson chi2:                     804.\n",
      "No. Iterations:                     7   Pseudo R-squ. (CS):             0.1630\n",
      "Covariance Type:            nonrobust                                         \n",
      "==============================================================================\n",
      "                 coef    std err          z      P>|z|      [0.025      0.975]\n",
      "------------------------------------------------------------------------------\n",
      "rank_node     -0.4663      0.029    -15.915      0.000      -0.524      -0.409\n",
      "==============================================================================\n",
      "AIC has_blind_node_proba: 578.5784853302383\n"
     ]
    },
    {
     "data": {
      "text/plain": [
       "<statsmodels.genmod.generalized_linear_model.GLMResultsWrapper at 0x17e2ddbb370>"
      ]
     },
     "execution_count": 11,
     "metadata": {},
     "output_type": "execute_result"
    }
   ],
   "source": [
    "final_models_functions.has_blind_node_proba(met_proleptic)"
   ]
  },
  {
   "cell_type": "markdown",
   "id": "678af40b-fc08-47dc-9d38-cb541302e48e",
   "metadata": {},
   "source": [
    "#### probability to have sylleptic"
   ]
  },
  {
   "cell_type": "code",
   "execution_count": 12,
   "id": "9f2c7612-6619-4dc7-af1e-9360e5597957",
   "metadata": {},
   "outputs": [
    {
     "name": "stdout",
     "output_type": "stream",
     "text": [
      "                 Generalized Linear Model Regression Results                  \n",
      "==============================================================================\n",
      "Dep. Variable:      shoot_type_binary   No. Observations:                 1062\n",
      "Model:                            GLM   Df Residuals:                     1061\n",
      "Model Family:                Binomial   Df Model:                            0\n",
      "Link Function:                  Logit   Scale:                          1.0000\n",
      "Method:                          IRLS   Log-Likelihood:                -523.40\n",
      "Date:                Fri, 07 Jun 2024   Deviance:                       1046.8\n",
      "Time:                        13:52:12   Pearson chi2:                 1.03e+03\n",
      "No. Iterations:                     5   Pseudo R-squ. (CS):            0.05993\n",
      "Covariance Type:            nonrobust                                         \n",
      "============================================================================================\n",
      "                               coef    std err          z      P>|z|      [0.025      0.975]\n",
      "--------------------------------------------------------------------------------------------\n",
      "abs_norm_median_distance    -5.4752      0.328    -16.703      0.000      -6.118      -4.833\n",
      "============================================================================================\n",
      "AIC has_sylleptic_proba: 1048.8042858226001\n"
     ]
    },
    {
     "data": {
      "text/plain": [
       "<statsmodels.genmod.generalized_linear_model.GLMResultsWrapper at 0x17e2ddcaa00>"
      ]
     },
     "execution_count": 12,
     "metadata": {},
     "output_type": "execute_result"
    }
   ],
   "source": [
    "final_models_functions.has_sylleptic_proba(met_proleptic)"
   ]
  },
  {
   "cell_type": "markdown",
   "id": "1b278e9c-318f-417f-b3c6-cae832d3aa32",
   "metadata": {},
   "source": [
    "#### number of buds inside sylleptic shoots"
   ]
  },
  {
   "cell_type": "code",
   "execution_count": 13,
   "id": "b74ba7d1-f18b-4c13-a45d-56d8bcdda8f6",
   "metadata": {},
   "outputs": [
    {
     "name": "stdout",
     "output_type": "stream",
     "text": [
      "                 Generalized Linear Model Regression Results                  \n",
      "==============================================================================\n",
      "Dep. Variable:       tot_buds_syl_m_v   No. Observations:                  231\n",
      "Model:                            GLM   Df Residuals:                      228\n",
      "Model Family:                 Poisson   Df Model:                            2\n",
      "Link Function:                    Log   Scale:                          1.0000\n",
      "Method:                          IRLS   Log-Likelihood:                -385.74\n",
      "Date:                Fri, 07 Jun 2024   Deviance:                       217.83\n",
      "Time:                        13:52:12   Pearson chi2:                     190.\n",
      "No. Iterations:                     4   Pseudo R-squ. (CS):             0.1595\n",
      "Covariance Type:            nonrobust                                         \n",
      "============================================================================================\n",
      "                               coef    std err          z      P>|z|      [0.025      0.975]\n",
      "--------------------------------------------------------------------------------------------\n",
      "const                        0.8065      0.111      7.282      0.000       0.589       1.024\n",
      "parent_length_cm             0.0111      0.003      4.115      0.000       0.006       0.016\n",
      "abs_norm_median_distance    -1.9720      0.394     -5.005      0.000      -2.744      -1.200\n",
      "============================================================================================\n",
      "AIC: nb_mv_in_sylleptic_lambda 777.4732917046234\n"
     ]
    }
   ],
   "source": [
    "final_models_functions.nb_mv_in_sylleptic_lambda(met_sylleptic)"
   ]
  },
  {
   "cell_type": "markdown",
   "id": "9f7dcfb3-be49-471b-a2ee-d0dbad0f452c",
   "metadata": {},
   "source": [
    "#### poisson function for number of V buds in proleptic shoots"
   ]
  },
  {
   "cell_type": "code",
   "execution_count": 14,
   "id": "d28837a4-26e2-4116-867f-1f40945f2fb3",
   "metadata": {},
   "outputs": [
    {
     "name": "stdout",
     "output_type": "stream",
     "text": [
      "                 Generalized Linear Model Regression Results                  \n",
      "==============================================================================\n",
      "Dep. Variable:            fate_binary   No. Observations:                  522\n",
      "Model:                            GLM   Df Residuals:                      521\n",
      "Model Family:                Binomial   Df Model:                            0\n",
      "Link Function:                  Logit   Scale:                          1.0000\n",
      "Method:                          IRLS   Log-Likelihood:                -361.36\n",
      "Date:                Fri, 07 Jun 2024   Deviance:                       722.72\n",
      "Time:                        13:52:12   Pearson chi2:                     522.\n",
      "No. Iterations:                     3   Pseudo R-squ. (CS):              0.000\n",
      "Covariance Type:            nonrobust                                         \n",
      "==============================================================================\n",
      "                 coef    std err          z      P>|z|      [0.025      0.975]\n",
      "------------------------------------------------------------------------------\n",
      "const          0.0843      0.088      0.963      0.336      -0.087       0.256\n",
      "==============================================================================\n",
      "AIC SYL_mv_proportion: 724.7181787533291\n"
     ]
    },
    {
     "data": {
      "text/plain": [
       "<statsmodels.genmod.generalized_linear_model.GLMResultsWrapper at 0x17e2e2614c0>"
      ]
     },
     "execution_count": 14,
     "metadata": {},
     "output_type": "execute_result"
    }
   ],
   "source": [
    "final_models_functions.nb_v_in_sylleptic_lambda(MV_bud_SYL)"
   ]
  },
  {
   "cell_type": "markdown",
   "id": "75c62c52-5b6f-45b9-855e-0b7f7898a7b3",
   "metadata": {},
   "source": [
    "#### probability of bursting in sylleptic shoots (MOD4)"
   ]
  },
  {
   "cell_type": "code",
   "execution_count": 15,
   "id": "b5b2da4d-40b5-459b-b396-57fafc4f73ba",
   "metadata": {},
   "outputs": [
    {
     "name": "stdout",
     "output_type": "stream",
     "text": [
      "Optimization terminated successfully.\n",
      "         Current function value: 0.631469\n",
      "         Iterations 5\n",
      "                           Logit Regression Results                           \n",
      "==============================================================================\n",
      "Dep. Variable:          nb_new_shoots   No. Observations:                  522\n",
      "Model:                          Logit   Df Residuals:                      517\n",
      "Method:                           MLE   Df Model:                            4\n",
      "Date:                Fri, 07 Jun 2024   Pseudo R-squ.:                 0.08510\n",
      "Time:                        13:52:12   Log-Likelihood:                -329.63\n",
      "converged:                       True   LL-Null:                       -360.29\n",
      "Covariance Type:            nonrobust   LLR p-value:                 1.528e-12\n",
      "==============================================================================\n",
      "                 coef    std err          z      P>|z|      [0.025      0.975]\n",
      "------------------------------------------------------------------------------\n",
      "Intercept      1.2464      0.201      6.202      0.000       0.853       1.640\n",
      "m:fate[M]     -0.7439      0.111     -6.701      0.000      -0.961      -0.526\n",
      "m:fate[V]     -0.1647      0.132     -1.252      0.211      -0.423       0.093\n",
      "v:fate[M]     -0.3292      0.129     -2.545      0.011      -0.583      -0.076\n",
      "v:fate[V]     -0.5799      0.120     -4.834      0.000      -0.815      -0.345\n",
      "==============================================================================\n",
      "AIC: burst_in_sylleptic_proba 669.2536854189749\n"
     ]
    }
   ],
   "source": [
    "final_models_functions.burst_in_sylleptic_proba(MV_bud_SYL)"
   ]
  },
  {
   "cell_type": "markdown",
   "id": "24df3c42-79d2-4f84-a072-e512e9932f21",
   "metadata": {},
   "source": [
    "#### gamma dist number of nodes of new shoots(MOD5)"
   ]
  },
  {
   "cell_type": "code",
   "execution_count": 16,
   "id": "f34a8203-67ce-4d15-9d79-b0ee2b9f5836",
   "metadata": {},
   "outputs": [
    {
     "name": "stdout",
     "output_type": "stream",
     "text": [
      "AIC: length_new_in_sylleptic 856.0128672373229\n"
     ]
    },
    {
     "data": {
      "text/plain": [
       "(2.376534320583779,\n",
       " 0.8351225805838078,\n",
       " 856.0128672373229,\n",
       "         x         y\n",
       " 0     0.0  0.000000\n",
       " 1     0.1  0.020589\n",
       " 2     0.2  0.049176\n",
       " 3     0.3  0.079046\n",
       " 4     0.4  0.108042\n",
       " ..    ...       ...\n",
       " 96    9.6  0.003952\n",
       " 97    9.7  0.003687\n",
       " 98    9.8  0.003440\n",
       " 99    9.9  0.003209\n",
       " 100  10.0  0.002993\n",
       " \n",
       " [101 rows x 2 columns])"
      ]
     },
     "execution_count": 16,
     "metadata": {},
     "output_type": "execute_result"
    }
   ],
   "source": [
    "final_models_functions.length_new_in_sylleptic(MV_bud_SYL)"
   ]
  },
  {
   "cell_type": "markdown",
   "id": "6a753220-17fd-4abc-bf80-ea6239005925",
   "metadata": {},
   "source": [
    "#### nb_buds in proleptic"
   ]
  },
  {
   "cell_type": "code",
   "execution_count": 17,
   "id": "f75406ea-7c57-471e-a25f-e8f09903e092",
   "metadata": {},
   "outputs": [
    {
     "name": "stdout",
     "output_type": "stream",
     "text": [
      "                 Generalized Linear Model Regression Results                  \n",
      "==============================================================================\n",
      "Dep. Variable:            tot_buds_mv   No. Observations:                  707\n",
      "Model:                            GLM   Df Residuals:                      706\n",
      "Model Family:                 Poisson   Df Model:                            0\n",
      "Link Function:                    Log   Scale:                          1.0000\n",
      "Method:                          IRLS   Log-Likelihood:                -782.11\n",
      "Date:                Fri, 07 Jun 2024   Deviance:                       101.14\n",
      "Time:                        13:52:12   Pearson chi2:                     163.\n",
      "No. Iterations:                     4   Pseudo R-squ. (CS):              0.000\n",
      "Covariance Type:            nonrobust                                         \n",
      "==============================================================================\n",
      "                 coef    std err          z      P>|z|      [0.025      0.975]\n",
      "------------------------------------------------------------------------------\n",
      "const          0.1236      0.035      3.495      0.000       0.054       0.193\n",
      "==============================================================================\n",
      "AIC nb_mv_in_proleptic_lambda: 1566.2290377251275\n"
     ]
    },
    {
     "data": {
      "text/plain": [
       "<statsmodels.genmod.generalized_linear_model.GLMResultsWrapper at 0x17e2d963400>"
      ]
     },
     "execution_count": 17,
     "metadata": {},
     "output_type": "execute_result"
    }
   ],
   "source": [
    "final_models_functions.nb_mv_in_proleptic_lambda(met_proleptic)"
   ]
  },
  {
   "cell_type": "markdown",
   "id": "91b2a5b7-c199-491d-8030-91a7b6d8d5c7",
   "metadata": {},
   "source": [
    "#### bud type in proleptic shoots"
   ]
  },
  {
   "cell_type": "code",
   "execution_count": 18,
   "id": "f7e9890d-58a1-45c0-a3f1-903a81735307",
   "metadata": {},
   "outputs": [
    {
     "name": "stdout",
     "output_type": "stream",
     "text": [
      "Category mapping:\n",
      "M: 0\n",
      "V: 1\n",
      "Optimization terminated successfully.\n",
      "         Current function value: 0.634245\n",
      "         Iterations 5\n",
      "                          MNLogit Regression Results                          \n",
      "==============================================================================\n",
      "Dep. Variable:           fate_encoded   No. Observations:                  750\n",
      "Model:                        MNLogit   Df Residuals:                      744\n",
      "Method:                           MLE   Df Model:                            5\n",
      "Date:                Fri, 07 Jun 2024   Pseudo R-squ.:                 0.07700\n",
      "Time:                        13:52:12   Log-Likelihood:                -475.68\n",
      "converged:                       True   LL-Null:                       -515.37\n",
      "Covariance Type:            nonrobust   LLR p-value:                 1.137e-15\n",
      "==================================================================================\n",
      "fate_encoded=1       coef    std err          z      P>|z|      [0.025      0.975]\n",
      "----------------------------------------------------------------------------------\n",
      "const             -1.0413      5.419     -0.192      0.848     -11.662       9.579\n",
      "rank_node          0.4165      4.951      0.084      0.933      -9.287      10.120\n",
      "rank_node0_5      -0.4041      9.815     -0.041      0.967     -19.640      18.832\n",
      "rank_node2         0.0423      0.446      0.095      0.924      -0.832       0.916\n",
      "rank_node3        -0.0072      0.027     -0.264      0.792      -0.060       0.046\n",
      "rank_node4         0.0002      0.001      0.324      0.746      -0.001       0.001\n",
      "==================================================================================\n",
      "Residual Deviance: 951.3680616446202\n",
      "AIC: 963.3680616446202\n"
     ]
    },
    {
     "data": {
      "text/plain": [
       "<statsmodels.discrete.discrete_model.MNLogit at 0x17e2e261130>"
      ]
     },
     "execution_count": 18,
     "metadata": {},
     "output_type": "execute_result"
    }
   ],
   "source": [
    "final_models_functions.bud_type_in_proleptic(bud_proleptic)"
   ]
  },
  {
   "cell_type": "markdown",
   "id": "30a7fe14-51ef-487d-865b-3fd7c0af5e38",
   "metadata": {},
   "source": [
    "#### probability of bursting in proleptic shoots (MOD3)"
   ]
  },
  {
   "cell_type": "code",
   "execution_count": 19,
   "id": "905de6cf-838f-49df-be7f-c951736a800e",
   "metadata": {},
   "outputs": [
    {
     "name": "stdout",
     "output_type": "stream",
     "text": [
      "Optimization terminated successfully.\n",
      "         Current function value: 0.387341\n",
      "         Iterations 7\n",
      "                           Logit Regression Results                           \n",
      "==============================================================================\n",
      "Dep. Variable:     presence_new_shoot   No. Observations:                  800\n",
      "Model:                          Logit   Df Residuals:                      795\n",
      "Method:                           MLE   Df Model:                            4\n",
      "Date:                Fri, 07 Jun 2024   Pseudo R-squ.:                  0.1647\n",
      "Time:                        13:52:12   Log-Likelihood:                -309.87\n",
      "converged:                       True   LL-Null:                       -370.98\n",
      "Covariance Type:            nonrobust   LLR p-value:                 1.795e-25\n",
      "================================================================================================\n",
      "                                   coef    std err          z      P>|z|      [0.025      0.975]\n",
      "------------------------------------------------------------------------------------------------\n",
      "Intercept                        1.9914      0.126     15.812      0.000       1.745       2.238\n",
      "siblings_mv:fate[M]             -0.8290      0.169     -4.913      0.000      -1.160      -0.498\n",
      "siblings_mv:fate[V]             -0.9149      0.189     -4.850      0.000      -1.285      -0.545\n",
      "norm_median_distance:fate[M]     2.3983      0.584      4.106      0.000       1.253       3.543\n",
      "norm_median_distance:fate[V]     2.9827      0.459      6.498      0.000       2.083       3.882\n",
      "================================================================================================\n",
      "AIC: burst_in_proleptic_proba 629.7451613747487\n"
     ]
    },
    {
     "data": {
      "text/plain": [
       "<statsmodels.discrete.discrete_model.BinaryResultsWrapper at 0x17e2dde1b20>"
      ]
     },
     "execution_count": 19,
     "metadata": {},
     "output_type": "execute_result"
    }
   ],
   "source": [
    "final_models_functions.burst_in_proleptic_proba(MV_bud_PRO)"
   ]
  },
  {
   "cell_type": "markdown",
   "id": "f896fa4c-8448-4168-82a4-3563ac3c28db",
   "metadata": {},
   "source": [
    "#### length of new shoots(MOD6)"
   ]
  },
  {
   "cell_type": "code",
   "execution_count": 20,
   "id": "28b872be-e390-448c-ae86-921384d07b71",
   "metadata": {},
   "outputs": [
    {
     "name": "stdout",
     "output_type": "stream",
     "text": [
      "                            OLS Regression Results                            \n",
      "==============================================================================\n",
      "Dep. Variable:              length2yo   R-squared:                       0.267\n",
      "Model:                            OLS   Adj. R-squared:                  0.262\n",
      "Method:                 Least Squares   F-statistic:                     59.50\n",
      "Date:                Fri, 07 Jun 2024   Prob (F-statistic):           7.45e-43\n",
      "Time:                        13:52:12   Log-Likelihood:                -1638.4\n",
      "No. Observations:                 659   AIC:                             3287.\n",
      "Df Residuals:                     654   BIC:                             3309.\n",
      "Df Model:                           4                                         \n",
      "Covariance Type:            nonrobust                                         \n",
      "================================================================================================\n",
      "                                   coef    std err          t      P>|t|      [0.025      0.975]\n",
      "------------------------------------------------------------------------------------------------\n",
      "Intercept                        1.2530      0.280      4.482      0.000       0.704       1.802\n",
      "fate[M]:length                   0.0395      0.008      5.257      0.000       0.025       0.054\n",
      "fate[V]:length                   0.0675      0.007      9.172      0.000       0.053       0.082\n",
      "norm_median_distance:fate[M]     1.4551      0.612      2.378      0.018       0.253       2.657\n",
      "norm_median_distance:fate[V]     6.2566      0.537     11.641      0.000       5.201       7.312\n",
      "==============================================================================\n",
      "Omnibus:                      678.835   Durbin-Watson:                   1.787\n",
      "Prob(Omnibus):                  0.000   Jarque-Bera (JB):            51359.299\n",
      "Skew:                           4.554   Prob(JB):                         0.00\n",
      "Kurtosis:                      45.279   Cond. No.                         161.\n",
      "==============================================================================\n",
      "\n",
      "Notes:\n",
      "[1] Standard Errors assume that the covariance matrix of the errors is correctly specified.\n",
      "AIC length_new_in_proleptic_proba: 3286.720050113905\n"
     ]
    }
   ],
   "source": [
    "final_models_functions.length_new_in_proleptic_proba(MV_bud_PRO)"
   ]
  },
  {
   "cell_type": "markdown",
   "id": "bfd5fa45-3a86-4450-95c2-5db0f451535e",
   "metadata": {},
   "source": [
    "#### CLUSTERS(proleptic and sylleptic)"
   ]
  },
  {
   "cell_type": "code",
   "execution_count": 21,
   "id": "388a5160-6de2-44ed-a34f-c12cffc4e3d3",
   "metadata": {},
   "outputs": [
    {
     "name": "stdout",
     "output_type": "stream",
     "text": [
      "Cluster set proportion: 0.4786450662739323\n",
      "                 Generalized Linear Model Regression Results                  \n",
      "==============================================================================\n",
      "Dep. Variable:                     cl   No. Observations:                  679\n",
      "Model:                            GLM   Df Residuals:                      676\n",
      "Model Family:                Binomial   Df Model:                            2\n",
      "Link Function:                  Logit   Scale:                          1.0000\n",
      "Method:                          IRLS   Log-Likelihood:                -408.15\n",
      "Date:                Fri, 07 Jun 2024   Deviance:                       816.30\n",
      "Time:                        13:52:12   Pearson chi2:                     720.\n",
      "No. Iterations:                     4   Pseudo R-squ. (CS):             0.1666\n",
      "Covariance Type:            nonrobust                                         \n",
      "============================================================================================\n",
      "                               coef    std err          z      P>|z|      [0.025      0.975]\n",
      "--------------------------------------------------------------------------------------------\n",
      "length                       0.0256      0.004      6.751      0.000       0.018       0.033\n",
      "siblings_mv                 -0.6302      0.070     -9.005      0.000      -0.767      -0.493\n",
      "abs_norm_median_distance    -2.0833      0.537     -3.881      0.000      -3.136      -1.031\n",
      "============================================================================================\n",
      "AIC: have_clusters_proba 822.3024827221967\n"
     ]
    },
    {
     "data": {
      "text/plain": [
       "<statsmodels.genmod.generalized_linear_model.GLMResultsWrapper at 0x17e2dde1bb0>"
      ]
     },
     "execution_count": 21,
     "metadata": {},
     "output_type": "execute_result"
    }
   ],
   "source": [
    "final_models_functions.have_clusters_proba(bud)"
   ]
  },
  {
   "cell_type": "markdown",
   "id": "647a6439-1ff9-434d-979a-458acf3c96cf",
   "metadata": {},
   "source": [
    "#### NUTS(proleptic and sylleptic)"
   ]
  },
  {
   "cell_type": "code",
   "execution_count": 22,
   "id": "a1c95821-f02e-489a-96ad-5df6c06477c0",
   "metadata": {},
   "outputs": [
    {
     "name": "stdout",
     "output_type": "stream",
     "text": [
      "Nut set proportion: 2.8984615384615386\n",
      "                 Generalized Linear Model Regression Results                  \n",
      "==============================================================================\n",
      "Dep. Variable:                     nu   No. Observations:                  325\n",
      "Model:                            GLM   Df Residuals:                      323\n",
      "Model Family:                 Poisson   Df Model:                            1\n",
      "Link Function:                    Log   Scale:                          1.0000\n",
      "Method:                          IRLS   Log-Likelihood:                -538.34\n",
      "Date:                Fri, 07 Jun 2024   Deviance:                       141.17\n",
      "Time:                        13:52:12   Pearson chi2:                     139.\n",
      "No. Iterations:                     4   Pseudo R-squ. (CS):            0.04347\n",
      "Covariance Type:            nonrobust                                         \n",
      "========================================================================================\n",
      "                           coef    std err          z      P>|z|      [0.025      0.975]\n",
      "----------------------------------------------------------------------------------------\n",
      "const                    1.0278      0.035     29.705      0.000       0.960       1.096\n",
      "norm_median_distance     0.5704      0.151      3.781      0.000       0.275       0.866\n",
      "========================================================================================\n",
      "AIC: number_nuts_lambda 1080.6873300390444\n"
     ]
    },
    {
     "data": {
      "text/plain": [
       "<statsmodels.genmod.generalized_linear_model.GLMResultsWrapper at 0x17e2e2b4b80>"
      ]
     },
     "execution_count": 22,
     "metadata": {},
     "output_type": "execute_result"
    }
   ],
   "source": [
    "final_models_functions.number_nuts_lambda(bud)"
   ]
  },
  {
   "cell_type": "markdown",
   "id": "f7998959-e72d-4e3b-a214-84f3e03d82c5",
   "metadata": {},
   "source": [
    "#### function for the relationship between diameter in mm and length in cm"
   ]
  },
  {
   "cell_type": "code",
   "execution_count": 23,
   "id": "59f6b937-0e56-4030-abfc-c73e51240a56",
   "metadata": {},
   "outputs": [
    {
     "name": "stdout",
     "output_type": "stream",
     "text": [
      "Parameters: a=0.152679, b=0.37\n",
      "RMSE: 0.59\n"
     ]
    }
   ],
   "source": [
    "final_models_functions.diameter_proba(shoot)"
   ]
  }
 ],
 "metadata": {
  "kernelspec": {
   "display_name": "Python 3 (ipykernel)",
   "language": "python",
   "name": "python3"
  },
  "language_info": {
   "codemirror_mode": {
    "name": "ipython",
    "version": 3
   },
   "file_extension": ".py",
   "mimetype": "text/x-python",
   "name": "python",
   "nbconvert_exporter": "python",
   "pygments_lexer": "ipython3",
   "version": "3.9.19"
  }
 },
 "nbformat": 4,
 "nbformat_minor": 5
}
