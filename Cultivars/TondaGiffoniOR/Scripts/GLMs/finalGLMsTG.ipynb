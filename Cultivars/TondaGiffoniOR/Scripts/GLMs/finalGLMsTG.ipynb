{
 "cells": [
  {
   "cell_type": "markdown",
   "id": "ca563935-ce4f-4d35-95fb-d05d847e8a67",
   "metadata": {},
   "source": [
    "## Script with the finals GLMs used to create L-HAZELNUT model. \n",
    "data: DERUTA 2020\n",
    "PhD: Francesca Grisafi"
   ]
  },
  {
   "cell_type": "code",
   "execution_count": 1,
   "id": "2f5b5ad0-8940-4008-b5c9-029acfb19efd",
   "metadata": {},
   "outputs": [],
   "source": [
    "import importnb\n",
    "import sys\n",
    "import pandas as pd\n",
    "import os"
   ]
  },
  {
   "cell_type": "code",
   "execution_count": 2,
   "id": "514df305-8e62-40fc-b1c0-0431b6327a8c",
   "metadata": {},
   "outputs": [],
   "source": [
    "def find_dir(start_path, last_folder):\n",
    "    '''\n",
    "    This function traverses up the directory tree from the starting path\n",
    "    until it finds a directory that ends with the specified folder name.\n",
    "\n",
    "    Parameters:\n",
    "    - start_path (str): The starting directory path.\n",
    "    - last_folder (str): The folder name to look for at the end of the directory.\n",
    "\n",
    "    Returns:\n",
    "    - str: The path of the repo directory if found, otherwise None.\n",
    "    '''\n",
    "    current_path = start_path\n",
    "    while True:\n",
    "        if current_path.endswith(f\"\\\\{last_folder}\"):\n",
    "            #print(f\"{current_path} is {last_folder} path\")\n",
    "            return current_path\n",
    "        else:\n",
    "            #print(f\"{current_path} is not the {last_folder} directory\")\n",
    "            parent_path = os.path.dirname(current_path)\n",
    "            if parent_path == current_path:  # If we've reached the root directory\n",
    "                #print(f\"Reached the root directory without finding the {last_folder} directory\")\n",
    "                return None\n",
    "            current_path = parent_path"
   ]
  },
  {
   "cell_type": "code",
   "execution_count": 3,
   "id": "0b44712b-3413-4dd3-b7d8-f82078e99962",
   "metadata": {},
   "outputs": [],
   "source": [
    "#directory corrente\n",
    "current_dir = os.path.abspath('')\n",
    "import_path = find_dir(current_dir, \"L-HAZELNUT\")\n",
    "import_path = os.path.join(import_path,\"Scripts\")\n",
    "sys.path.append(import_path)"
   ]
  },
  {
   "cell_type": "code",
   "execution_count": 4,
   "id": "4c515a08-4a76-49cf-ace0-11c58a2e7e3d",
   "metadata": {},
   "outputs": [
    {
     "name": "stdout",
     "output_type": "stream",
     "text": [
      "File presenti nella directory:\n",
      "['.ipynb_checkpoints', 'Annual_shoot.py', 'GLMs', 'Import_Dataset.py', 'Lateral_buds.py', '__init__.py', '__pycache__']\n"
     ]
    }
   ],
   "source": [
    "files = os.listdir(import_path)\n",
    "print(\"File presenti nella directory:\")\n",
    "print(files)"
   ]
  },
  {
   "cell_type": "code",
   "execution_count": 5,
   "id": "a178ada9-a951-410b-aa77-40ae1fb09e2e",
   "metadata": {},
   "outputs": [],
   "source": [
    "import Import_Dataset"
   ]
  },
  {
   "cell_type": "code",
   "execution_count": 6,
   "id": "07befa40-7e91-4830-a0f4-d74a4f272443",
   "metadata": {},
   "outputs": [
    {
     "name": "stdout",
     "output_type": "stream",
     "text": [
      "File presenti nella directory:\n",
      "['final_models_functions.py', 'final_models_plots.py', '__init__.py', '__pycache__']\n"
     ]
    }
   ],
   "source": [
    "import_path = os.path.join(import_path,\"GLMs\")\n",
    "sys.path.append(import_path)\n",
    "files = os.listdir(import_path)\n",
    "print(\"File presenti nella directory:\")\n",
    "print(files)"
   ]
  },
  {
   "cell_type": "code",
   "execution_count": 7,
   "id": "13ef0359-0bcd-4a29-ae95-f919f9dbf09e",
   "metadata": {},
   "outputs": [],
   "source": [
    "import final_models_functions"
   ]
  },
  {
   "cell_type": "code",
   "execution_count": 8,
   "id": "7c8525dd-96ed-4efa-953d-fe476c1074a3",
   "metadata": {},
   "outputs": [],
   "source": [
    "file_paths = {\n",
    "    'bud': \"../../Data/bud.csv\",\n",
    "    'bud_proleptic': '../../Data/bud_proleptic.csv',\n",
    "    'bud_sylleptic': '../../Data/bud_sylleptic.csv',\n",
    "    'MV_bud_pro': '../../Data/MV_bud_pro.csv',\n",
    "    'MV_bud_syl': '../../Data/MV_bud_syl.csv',\n",
    "    'met_proleptic': '../../Data/met_proleptic.csv',\n",
    "    'met_sylleptic': '../../Data/met_sylleptic.csv',\n",
    "    'all_met_proleptic': '../../Data/all_met_proleptic.csv',\n",
    "    'all_met_sylleptic': '../../Data/all_met_sylleptic.csv',\n",
    "    'shoot': '../../Data/shoot.csv'\n",
    "}\n",
    "\n",
    "data = Import_Dataset.importdataset(**file_paths)"
   ]
  },
  {
   "cell_type": "code",
   "execution_count": 9,
   "id": "3621eafc-765f-470f-aed2-450e8f5658b7",
   "metadata": {},
   "outputs": [
    {
     "name": "stdout",
     "output_type": "stream",
     "text": [
      "bud\n",
      "bud_proleptic\n",
      "bud_sylleptic\n",
      "MV_bud_PRO\n",
      "MV_bud_SYL\n",
      "met_proleptic\n",
      "met_sylleptic\n",
      "met_all_proleptic\n",
      "met_all_sylleptic\n",
      "shoot\n"
     ]
    }
   ],
   "source": [
    "for name,dict_ in data.items():\n",
    "    print(name)\n",
    "    globals()[name] = dict_"
   ]
  },
  {
   "cell_type": "markdown",
   "id": "0b6f5dfa-aac9-4d8d-953c-35c89a5cc20e",
   "metadata": {},
   "source": [
    "#### function for the relationship between length in cm and length in "
   ]
  },
  {
   "cell_type": "code",
   "execution_count": 10,
   "id": "7a979c89-3eaf-4a25-a91f-f53a9b730af1",
   "metadata": {},
   "outputs": [
    {
     "name": "stdout",
     "output_type": "stream",
     "text": [
      "                                 OLS Regression Results                                \n",
      "=======================================================================================\n",
      "Dep. Variable:                   node   R-squared (uncentered):                   0.976\n",
      "Model:                            OLS   Adj. R-squared (uncentered):              0.976\n",
      "Method:                 Least Squares   F-statistic:                              2107.\n",
      "Date:                Fri, 31 May 2024   Prob (F-statistic):                    1.11e-83\n",
      "Time:                        16:54:16   Log-Likelihood:                         -207.78\n",
      "No. Observations:                 104   AIC:                                      419.6\n",
      "Df Residuals:                     102   BIC:                                      424.8\n",
      "Df Model:                           2                                                  \n",
      "Covariance Type:            nonrobust                                                  \n",
      "==============================================================================\n",
      "                 coef    std err          t      P>|t|      [0.025      0.975]\n",
      "------------------------------------------------------------------------------\n",
      "length_05      2.1620      0.075     28.873      0.000       2.014       2.311\n",
      "length_2       0.0008      0.000      2.879      0.005       0.000       0.001\n",
      "==============================================================================\n",
      "Omnibus:                        4.702   Durbin-Watson:                   1.635\n",
      "Prob(Omnibus):                  0.095   Jarque-Bera (JB):                4.168\n",
      "Skew:                           0.374   Prob(JB):                        0.124\n",
      "Kurtosis:                       3.635   Cond. No.                         582.\n",
      "==============================================================================\n",
      "\n",
      "Notes:\n",
      "[1] R² is computed without centering (uncentered) since the model does not contain a constant.\n",
      "[2] Standard Errors assume that the covariance matrix of the errors is correctly specified.\n",
      "Residual Standard Error (RSE): 1.8015158451230233\n",
      "AIC shootnbnodesfromlength_proba: 419.5544508876757\n"
     ]
    },
    {
     "data": {
      "text/plain": [
       "<statsmodels.regression.linear_model.RegressionResultsWrapper at 0x1d8d038c130>"
      ]
     },
     "execution_count": 10,
     "metadata": {},
     "output_type": "execute_result"
    }
   ],
   "source": [
    "final_models_functions.shootnbnodesfromlength_proba(shoot)"
   ]
  },
  {
   "cell_type": "markdown",
   "id": "c7d7eb07-44d4-4a0b-9bf6-f44e4ddb0a9f",
   "metadata": {},
   "source": [
    "#### has_blind_node"
   ]
  },
  {
   "cell_type": "code",
   "execution_count": 11,
   "id": "35115828-6813-47d9-a986-9644d38b7122",
   "metadata": {},
   "outputs": [
    {
     "name": "stdout",
     "output_type": "stream",
     "text": [
      "                 Generalized Linear Model Regression Results                  \n",
      "==============================================================================\n",
      "Dep. Variable:                      b   No. Observations:                 1062\n",
      "Model:                            GLM   Df Residuals:                     1061\n",
      "Model Family:                Binomial   Df Model:                            0\n",
      "Link Function:                  Logit   Scale:                          1.0000\n",
      "Method:                          IRLS   Log-Likelihood:                -288.29\n",
      "Date:                Fri, 31 May 2024   Deviance:                       576.58\n",
      "Time:                        16:54:16   Pearson chi2:                     804.\n",
      "No. Iterations:                     7   Pseudo R-squ. (CS):             0.1630\n",
      "Covariance Type:            nonrobust                                         \n",
      "==============================================================================\n",
      "                 coef    std err          z      P>|z|      [0.025      0.975]\n",
      "------------------------------------------------------------------------------\n",
      "rank_node     -0.4663      0.029    -15.915      0.000      -0.524      -0.409\n",
      "==============================================================================\n",
      "AIC has_blind_node_proba: 578.5784853302383\n"
     ]
    },
    {
     "data": {
      "text/plain": [
       "<statsmodels.genmod.generalized_linear_model.GLMResultsWrapper at 0x1d8d41b1880>"
      ]
     },
     "execution_count": 11,
     "metadata": {},
     "output_type": "execute_result"
    }
   ],
   "source": [
    "final_models_functions.has_blind_node_proba(met_proleptic)"
   ]
  },
  {
   "cell_type": "markdown",
   "id": "678af40b-fc08-47dc-9d38-cb541302e48e",
   "metadata": {},
   "source": [
    "#### probability to have sylleptic"
   ]
  },
  {
   "cell_type": "code",
   "execution_count": 12,
   "id": "9f2c7612-6619-4dc7-af1e-9360e5597957",
   "metadata": {},
   "outputs": [
    {
     "name": "stdout",
     "output_type": "stream",
     "text": [
      "                 Generalized Linear Model Regression Results                  \n",
      "==============================================================================\n",
      "Dep. Variable:      shoot_type_binary   No. Observations:                 1062\n",
      "Model:                            GLM   Df Residuals:                     1061\n",
      "Model Family:                Binomial   Df Model:                            0\n",
      "Link Function:                  Logit   Scale:                          1.0000\n",
      "Method:                          IRLS   Log-Likelihood:                -523.40\n",
      "Date:                Fri, 31 May 2024   Deviance:                       1046.8\n",
      "Time:                        16:54:16   Pearson chi2:                 1.03e+03\n",
      "No. Iterations:                     5   Pseudo R-squ. (CS):            0.05993\n",
      "Covariance Type:            nonrobust                                         \n",
      "============================================================================================\n",
      "                               coef    std err          z      P>|z|      [0.025      0.975]\n",
      "--------------------------------------------------------------------------------------------\n",
      "abs_norm_median_distance    -5.4752      0.328    -16.703      0.000      -6.118      -4.833\n",
      "============================================================================================\n",
      "AIC has_sylleptic_proba: 1048.8042858226001\n"
     ]
    },
    {
     "data": {
      "text/plain": [
       "<statsmodels.genmod.generalized_linear_model.GLMResultsWrapper at 0x1d8d41c9280>"
      ]
     },
     "execution_count": 12,
     "metadata": {},
     "output_type": "execute_result"
    }
   ],
   "source": [
    "final_models_functions.has_sylleptic_proba(met_proleptic)"
   ]
  },
  {
   "cell_type": "markdown",
   "id": "1b278e9c-318f-417f-b3c6-cae832d3aa32",
   "metadata": {},
   "source": [
    "#### number of buds inside sylleptic shoots"
   ]
  },
  {
   "cell_type": "code",
   "execution_count": 13,
   "id": "b74ba7d1-f18b-4c13-a45d-56d8bcdda8f6",
   "metadata": {},
   "outputs": [
    {
     "name": "stdout",
     "output_type": "stream",
     "text": [
      "                 Generalized Linear Model Regression Results                  \n",
      "==============================================================================\n",
      "Dep. Variable:       tot_buds_syl_m_v   No. Observations:                  231\n",
      "Model:                            GLM   Df Residuals:                      228\n",
      "Model Family:                 Poisson   Df Model:                            2\n",
      "Link Function:                    Log   Scale:                          1.0000\n",
      "Method:                          IRLS   Log-Likelihood:                -385.74\n",
      "Date:                Fri, 31 May 2024   Deviance:                       217.83\n",
      "Time:                        16:54:16   Pearson chi2:                     190.\n",
      "No. Iterations:                     4   Pseudo R-squ. (CS):             0.1595\n",
      "Covariance Type:            nonrobust                                         \n",
      "============================================================================================\n",
      "                               coef    std err          z      P>|z|      [0.025      0.975]\n",
      "--------------------------------------------------------------------------------------------\n",
      "const                        0.8065      0.111      7.282      0.000       0.589       1.024\n",
      "parent_length_cm             0.0111      0.003      4.115      0.000       0.006       0.016\n",
      "abs_norm_median_distance    -1.9720      0.394     -5.005      0.000      -2.744      -1.200\n",
      "============================================================================================\n",
      "AIC: nb_mv_in_sylleptic_lambda 777.4732917046234\n"
     ]
    }
   ],
   "source": [
    "final_models_functions.nb_mv_in_sylleptic_lambda(met_sylleptic)"
   ]
  },
  {
   "cell_type": "markdown",
   "id": "9f7dcfb3-be49-471b-a2ee-d0dbad0f452c",
   "metadata": {},
   "source": [
    "#### poisson function for number of V buds in proleptic shoots"
   ]
  },
  {
   "cell_type": "code",
   "execution_count": 14,
   "id": "d28837a4-26e2-4116-867f-1f40945f2fb3",
   "metadata": {},
   "outputs": [
    {
     "name": "stdout",
     "output_type": "stream",
     "text": [
      "                 Generalized Linear Model Regression Results                  \n",
      "==============================================================================\n",
      "Dep. Variable:            fate_binary   No. Observations:                  522\n",
      "Model:                            GLM   Df Residuals:                      521\n",
      "Model Family:                Binomial   Df Model:                            0\n",
      "Link Function:                  Logit   Scale:                          1.0000\n",
      "Method:                          IRLS   Log-Likelihood:                -361.36\n",
      "Date:                Fri, 31 May 2024   Deviance:                       722.72\n",
      "Time:                        16:54:16   Pearson chi2:                     522.\n",
      "No. Iterations:                     3   Pseudo R-squ. (CS):              0.000\n",
      "Covariance Type:            nonrobust                                         \n",
      "==============================================================================\n",
      "                 coef    std err          z      P>|z|      [0.025      0.975]\n",
      "------------------------------------------------------------------------------\n",
      "const          0.0843      0.088      0.963      0.336      -0.087       0.256\n",
      "==============================================================================\n",
      "AIC SYL_mv_proportion: 724.7181787533291\n"
     ]
    },
    {
     "data": {
      "text/plain": [
       "<statsmodels.genmod.generalized_linear_model.GLMResultsWrapper at 0x1d8d41e1730>"
      ]
     },
     "execution_count": 14,
     "metadata": {},
     "output_type": "execute_result"
    }
   ],
   "source": [
    "final_models_functions.nb_v_in_sylleptic_lambda(MV_bud_SYL)"
   ]
  },
  {
   "cell_type": "markdown",
   "id": "75c62c52-5b6f-45b9-855e-0b7f7898a7b3",
   "metadata": {},
   "source": [
    "#### probability of bursting in sylleptic shoots (MOD4)"
   ]
  },
  {
   "cell_type": "code",
   "execution_count": 15,
   "id": "b5b2da4d-40b5-459b-b396-57fafc4f73ba",
   "metadata": {},
   "outputs": [
    {
     "ename": "ValueError",
     "evalue": "endog has evaluated to an array with multiple columns that has shape (522, 2). This occurs when the variable converted to endog is non-numeric (e.g., bool or str).",
     "output_type": "error",
     "traceback": [
      "\u001b[1;31m---------------------------------------------------------------------------\u001b[0m",
      "\u001b[1;31mValueError\u001b[0m                                Traceback (most recent call last)",
      "Cell \u001b[1;32mIn[15], line 1\u001b[0m\n\u001b[1;32m----> 1\u001b[0m \u001b[43mfinal_models_functions\u001b[49m\u001b[38;5;241;43m.\u001b[39;49m\u001b[43mburst_in_sylleptic_proba\u001b[49m\u001b[43m(\u001b[49m\u001b[43mMV_bud_SYL\u001b[49m\u001b[43m)\u001b[49m\n",
      "File \u001b[1;32m~\\Desktop\\Ricerca\\Progetti\\L-HAZELNUT\\L-HAZELNUT\\Scripts\\GLMs\\final_models_functions.py:147\u001b[0m, in \u001b[0;36mburst_in_sylleptic_proba\u001b[1;34m(MV_bud_SYL, predictor1_col, interaction_col, predictor2_col)\u001b[0m\n\u001b[0;32m    145\u001b[0m \u001b[38;5;66;03m# Fit the logistic regression model with interaction terms\u001b[39;00m\n\u001b[0;32m    146\u001b[0m formula \u001b[38;5;241m=\u001b[39m \u001b[38;5;124mf\u001b[39m\u001b[38;5;124m'\u001b[39m\u001b[38;5;124mnb_new_shoots_binary ~ \u001b[39m\u001b[38;5;132;01m{\u001b[39;00mpredictor1_col\u001b[38;5;132;01m}\u001b[39;00m\u001b[38;5;124m:\u001b[39m\u001b[38;5;132;01m{\u001b[39;00minteraction_col\u001b[38;5;132;01m}\u001b[39;00m\u001b[38;5;124m + \u001b[39m\u001b[38;5;132;01m{\u001b[39;00mpredictor2_col\u001b[38;5;132;01m}\u001b[39;00m\u001b[38;5;124m:\u001b[39m\u001b[38;5;132;01m{\u001b[39;00minteraction_col\u001b[38;5;132;01m}\u001b[39;00m\u001b[38;5;124m'\u001b[39m\n\u001b[1;32m--> 147\u001b[0m model \u001b[38;5;241m=\u001b[39m \u001b[43msmf\u001b[49m\u001b[38;5;241;43m.\u001b[39;49m\u001b[43mlogit\u001b[49m\u001b[43m(\u001b[49m\u001b[43mformula\u001b[49m\u001b[43m,\u001b[49m\u001b[43m \u001b[49m\u001b[43mdata\u001b[49m\u001b[38;5;241;43m=\u001b[39;49m\u001b[43mMV_bud_SYL\u001b[49m\u001b[43m)\u001b[49m\u001b[38;5;241m.\u001b[39mfit()\n\u001b[0;32m    149\u001b[0m \u001b[38;5;66;03m# Print the summary of the model\u001b[39;00m\n\u001b[0;32m    150\u001b[0m \u001b[38;5;28mprint\u001b[39m(model\u001b[38;5;241m.\u001b[39msummary())\n",
      "File \u001b[1;32m~\\miniconda3\\lib\\site-packages\\statsmodels\\base\\model.py:209\u001b[0m, in \u001b[0;36mModel.from_formula\u001b[1;34m(cls, formula, data, subset, drop_cols, *args, **kwargs)\u001b[0m\n\u001b[0;32m    206\u001b[0m max_endog \u001b[38;5;241m=\u001b[39m \u001b[38;5;28mcls\u001b[39m\u001b[38;5;241m.\u001b[39m_formula_max_endog\n\u001b[0;32m    207\u001b[0m \u001b[38;5;28;01mif\u001b[39;00m (max_endog \u001b[38;5;129;01mis\u001b[39;00m \u001b[38;5;129;01mnot\u001b[39;00m \u001b[38;5;28;01mNone\u001b[39;00m \u001b[38;5;129;01mand\u001b[39;00m\n\u001b[0;32m    208\u001b[0m         endog\u001b[38;5;241m.\u001b[39mndim \u001b[38;5;241m>\u001b[39m \u001b[38;5;241m1\u001b[39m \u001b[38;5;129;01mand\u001b[39;00m endog\u001b[38;5;241m.\u001b[39mshape[\u001b[38;5;241m1\u001b[39m] \u001b[38;5;241m>\u001b[39m max_endog):\n\u001b[1;32m--> 209\u001b[0m     \u001b[38;5;28;01mraise\u001b[39;00m \u001b[38;5;167;01mValueError\u001b[39;00m(\u001b[38;5;124m'\u001b[39m\u001b[38;5;124mendog has evaluated to an array with multiple \u001b[39m\u001b[38;5;124m'\u001b[39m\n\u001b[0;32m    210\u001b[0m                      \u001b[38;5;124m'\u001b[39m\u001b[38;5;124mcolumns that has shape \u001b[39m\u001b[38;5;132;01m{}\u001b[39;00m\u001b[38;5;124m. This occurs when \u001b[39m\u001b[38;5;124m'\u001b[39m\n\u001b[0;32m    211\u001b[0m                      \u001b[38;5;124m'\u001b[39m\u001b[38;5;124mthe variable converted to endog is non-numeric\u001b[39m\u001b[38;5;124m'\u001b[39m\n\u001b[0;32m    212\u001b[0m                      \u001b[38;5;124m'\u001b[39m\u001b[38;5;124m (e.g., bool or str).\u001b[39m\u001b[38;5;124m'\u001b[39m\u001b[38;5;241m.\u001b[39mformat(endog\u001b[38;5;241m.\u001b[39mshape))\n\u001b[0;32m    213\u001b[0m \u001b[38;5;28;01mif\u001b[39;00m drop_cols \u001b[38;5;129;01mis\u001b[39;00m \u001b[38;5;129;01mnot\u001b[39;00m \u001b[38;5;28;01mNone\u001b[39;00m \u001b[38;5;129;01mand\u001b[39;00m \u001b[38;5;28mlen\u001b[39m(drop_cols) \u001b[38;5;241m>\u001b[39m \u001b[38;5;241m0\u001b[39m:\n\u001b[0;32m    214\u001b[0m     cols \u001b[38;5;241m=\u001b[39m [x \u001b[38;5;28;01mfor\u001b[39;00m x \u001b[38;5;129;01min\u001b[39;00m exog\u001b[38;5;241m.\u001b[39mcolumns \u001b[38;5;28;01mif\u001b[39;00m x \u001b[38;5;129;01mnot\u001b[39;00m \u001b[38;5;129;01min\u001b[39;00m drop_cols]\n",
      "\u001b[1;31mValueError\u001b[0m: endog has evaluated to an array with multiple columns that has shape (522, 2). This occurs when the variable converted to endog is non-numeric (e.g., bool or str)."
     ]
    }
   ],
   "source": [
    "final_models_functions.burst_in_sylleptic_proba(MV_bud_SYL)"
   ]
  },
  {
   "cell_type": "markdown",
   "id": "24df3c42-79d2-4f84-a072-e512e9932f21",
   "metadata": {},
   "source": [
    "#### gamma dist number of nodes of new shoots(MOD5)"
   ]
  },
  {
   "cell_type": "markdown",
   "id": "6a753220-17fd-4abc-bf80-ea6239005925",
   "metadata": {},
   "source": [
    "#### nb_buds in proleptic"
   ]
  },
  {
   "cell_type": "markdown",
   "id": "91b2a5b7-c199-491d-8030-91a7b6d8d5c7",
   "metadata": {},
   "source": [
    "#### bud type in proleptic shoots"
   ]
  }
 ],
 "metadata": {
  "kernelspec": {
   "display_name": "Python 3 (ipykernel)",
   "language": "python",
   "name": "python3"
  },
  "language_info": {
   "codemirror_mode": {
    "name": "ipython",
    "version": 3
   },
   "file_extension": ".py",
   "mimetype": "text/x-python",
   "name": "python",
   "nbconvert_exporter": "python",
   "pygments_lexer": "ipython3",
   "version": "3.9.19"
  }
 },
 "nbformat": 4,
 "nbformat_minor": 5
}
