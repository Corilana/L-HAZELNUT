{
 "cells": [
  {
   "cell_type": "markdown",
   "id": "ca563935-ce4f-4d35-95fb-d05d847e8a67",
   "metadata": {},
   "source": [
    "## Script with the finals GLMs used to create L-HAZELNUT model. \n",
    "data: DERUTA 2020\n",
    "PhD: Francesca Grisafi"
   ]
  },
  {
   "cell_type": "code",
   "execution_count": 1,
   "id": "2f5b5ad0-8940-4008-b5c9-029acfb19efd",
   "metadata": {},
   "outputs": [],
   "source": [
    "import importnb\n",
    "import sys\n",
    "import pandas as pd\n",
    "\n",
    "# Add the resolved path to sys.path\n",
    "sys.path.insert(0, \"../../../../Scripts\")\n",
    "\n",
    "# Import the notebooks\n",
    "with importnb.Notebook():\n",
    "    import Import_Dataset\n",
    "\n",
    "# Add the resolved path to sys.path\n",
    "sys.path.insert(0, \"../../../../Scripts/GLMs\")\n",
    "\n",
    "# Import the notebooks\n",
    "with importnb.Notebook():\n",
    "    import final_GLMs"
   ]
  },
  {
   "cell_type": "code",
   "execution_count": 2,
   "id": "7c8525dd-96ed-4efa-953d-fe476c1074a3",
   "metadata": {},
   "outputs": [],
   "source": [
    "file_paths = {\n",
    "    'bud': \"../../Data/bud.csv\",\n",
    "    'bud_proleptic': '../../Data/bud_proleptic.csv',\n",
    "    'bud_sylleptic': '../../Data/bud_sylleptic.csv',\n",
    "    'MV_bud_pro': '../../Data/MV_bud_pro.csv',\n",
    "    'MV_bud_syl': '../../Data/MV_bud_syl.csv',\n",
    "    'met_proleptic': '../../Data/met_proleptic.csv',\n",
    "    'met_sylleptic': '../../Data/met_sylleptic.csv',\n",
    "    'all_met_proleptic': '../../Data/all_met_proleptic.csv',\n",
    "    'all_met_sylleptic': '../../Data/all_met_sylleptic.csv',\n",
    "    'shoot': '../../Data/shoot.csv'\n",
    "}\n",
    "\n",
    "data = Import_Dataset.importdataset(**file_paths)"
   ]
  },
  {
   "cell_type": "code",
   "execution_count": 3,
   "id": "3621eafc-765f-470f-aed2-450e8f5658b7",
   "metadata": {},
   "outputs": [],
   "source": [
    "for name,dict_ in data.items():\n",
    "    globals()[name] = dict_"
   ]
  },
  {
   "cell_type": "code",
   "execution_count": 4,
   "id": "7a979c89-3eaf-4a25-a91f-f53a9b730af1",
   "metadata": {},
   "outputs": [
    {
     "name": "stdout",
     "output_type": "stream",
     "text": [
      "                            OLS Regression Results                            \n",
      "==============================================================================\n",
      "Dep. Variable:                   node   R-squared:                       0.896\n",
      "Model:                            OLS   Adj. R-squared:                  0.894\n",
      "Method:                 Least Squares   F-statistic:                     434.1\n",
      "Date:                Fri, 24 May 2024   Prob (F-statistic):           2.54e-50\n",
      "Time:                        18:36:14   Log-Likelihood:                -207.59\n",
      "No. Observations:                 104   AIC:                             421.2\n",
      "Df Residuals:                     101   BIC:                             429.1\n",
      "Df Model:                           2                                         \n",
      "Covariance Type:            nonrobust                                         \n",
      "==============================================================================\n",
      "                 coef    std err          t      P>|t|      [0.025      0.975]\n",
      "------------------------------------------------------------------------------\n",
      "const         -0.3510      0.588     -0.597      0.552      -1.517       0.815\n",
      "length_05      2.2656      0.189     11.984      0.000       1.891       2.641\n",
      "length_2       0.0006      0.000      1.638      0.104      -0.000       0.001\n",
      "==============================================================================\n",
      "Omnibus:                        3.385   Durbin-Watson:                   1.638\n",
      "Prob(Omnibus):                  0.184   Jarque-Bera (JB):                2.788\n",
      "Skew:                           0.297   Prob(JB):                        0.248\n",
      "Kurtosis:                       3.539   Cond. No.                     4.75e+03\n",
      "==============================================================================\n",
      "\n",
      "Notes:\n",
      "[1] Standard Errors assume that the covariance matrix of the errors is correctly specified.\n",
      "[2] The condition number is large, 4.75e+03. This might indicate that there are\n",
      "strong multicollinearity or other numerical problems.\n",
      "AIC: 421.18802798562865\n"
     ]
    }
   ],
   "source": [
    "model1 = final_GLMs.length_nbnodes(shoot)"
   ]
  },
  {
   "cell_type": "code",
   "execution_count": 6,
   "id": "6bb5f127-250f-421d-82ed-f62a318be7b5",
   "metadata": {},
   "outputs": [
    {
     "ename": "ValueError",
     "evalue": "shapes (100,4) and (3,) not aligned: 4 (dim 1) != 3 (dim 0)",
     "output_type": "error",
     "traceback": [
      "\u001b[1;31m---------------------------------------------------------------------------\u001b[0m",
      "\u001b[1;31mValueError\u001b[0m                                Traceback (most recent call last)",
      "Cell \u001b[1;32mIn[6], line 1\u001b[0m\n\u001b[1;32m----> 1\u001b[0m \u001b[43mfinal_GLMs\u001b[49m\u001b[38;5;241;43m.\u001b[39;49m\u001b[43mplot_length_nbnodes\u001b[49m\u001b[43m(\u001b[49m\u001b[43mshoot\u001b[49m\u001b[43m,\u001b[49m\u001b[43m \u001b[49m\u001b[43mmodel1\u001b[49m\u001b[43m,\u001b[49m\u001b[43m \u001b[49m\u001b[43mxlim\u001b[49m\u001b[38;5;241;43m=\u001b[39;49m\u001b[38;5;28;43;01mNone\u001b[39;49;00m\u001b[43m)\u001b[49m\n",
      "File \u001b[1;32m~\\Desktop\\Ricerca\\Progetti\\L-HAZELNUT\\L-HAZELNUT\\Cultivars\\TondaGiffoniOR\\Scripts\\GLMs\\../../../../Scripts/GLMs\\final_GLMs.ipynb:86\u001b[0m, in \u001b[0;36mplot_length_nbnodes\u001b[1;34m(shoot, model, xlim)\u001b[0m\n\u001b[0;32m     83\u001b[0m new_data \u001b[38;5;241m=\u001b[39m sm\u001b[38;5;241m.\u001b[39madd_constant(new_data, has_constant\u001b[38;5;241m=\u001b[39m\u001b[38;5;124m'\u001b[39m\u001b[38;5;124madd\u001b[39m\u001b[38;5;124m'\u001b[39m)\n\u001b[0;32m     85\u001b[0m \u001b[38;5;66;03m# Previsioni dal modello\u001b[39;00m\n\u001b[1;32m---> 86\u001b[0m pred \u001b[38;5;241m=\u001b[39m \u001b[43mmodel\u001b[49m\u001b[38;5;241;43m.\u001b[39;49m\u001b[43mget_prediction\u001b[49m\u001b[43m(\u001b[49m\u001b[43mnew_data\u001b[49m\u001b[43m)\u001b[49m\n\u001b[0;32m     87\u001b[0m summary_frame \u001b[38;5;241m=\u001b[39m pred\u001b[38;5;241m.\u001b[39msummary_frame(alpha\u001b[38;5;241m=\u001b[39m\u001b[38;5;241m0.05\u001b[39m)\n\u001b[0;32m     88\u001b[0m new_y \u001b[38;5;241m=\u001b[39m summary_frame[\u001b[38;5;124m'\u001b[39m\u001b[38;5;124mmean\u001b[39m\u001b[38;5;124m'\u001b[39m]\n",
      "File \u001b[1;32m~\\miniconda3\\lib\\site-packages\\statsmodels\\regression\\linear_model.py:2693\u001b[0m, in \u001b[0;36mRegressionResults.get_prediction\u001b[1;34m(self, exog, transform, weights, row_labels, **kwargs)\u001b[0m\n\u001b[0;32m   2689\u001b[0m \u001b[38;5;129m@Appender\u001b[39m(pred\u001b[38;5;241m.\u001b[39mget_prediction\u001b[38;5;241m.\u001b[39m\u001b[38;5;18m__doc__\u001b[39m)\n\u001b[0;32m   2690\u001b[0m \u001b[38;5;28;01mdef\u001b[39;00m \u001b[38;5;21mget_prediction\u001b[39m(\u001b[38;5;28mself\u001b[39m, exog\u001b[38;5;241m=\u001b[39m\u001b[38;5;28;01mNone\u001b[39;00m, transform\u001b[38;5;241m=\u001b[39m\u001b[38;5;28;01mTrue\u001b[39;00m, weights\u001b[38;5;241m=\u001b[39m\u001b[38;5;28;01mNone\u001b[39;00m,\n\u001b[0;32m   2691\u001b[0m                    row_labels\u001b[38;5;241m=\u001b[39m\u001b[38;5;28;01mNone\u001b[39;00m, \u001b[38;5;241m*\u001b[39m\u001b[38;5;241m*\u001b[39mkwargs):\n\u001b[1;32m-> 2693\u001b[0m     \u001b[38;5;28;01mreturn\u001b[39;00m pred\u001b[38;5;241m.\u001b[39mget_prediction(\n\u001b[0;32m   2694\u001b[0m         \u001b[38;5;28mself\u001b[39m, exog\u001b[38;5;241m=\u001b[39mexog, transform\u001b[38;5;241m=\u001b[39mtransform, weights\u001b[38;5;241m=\u001b[39mweights,\n\u001b[0;32m   2695\u001b[0m         row_labels\u001b[38;5;241m=\u001b[39mrow_labels, \u001b[38;5;241m*\u001b[39m\u001b[38;5;241m*\u001b[39mkwargs)\n",
      "File \u001b[1;32m~\\miniconda3\\lib\\site-packages\\statsmodels\\regression\\_prediction.py:198\u001b[0m, in \u001b[0;36mget_prediction\u001b[1;34m(self, exog, transform, weights, row_labels, pred_kwds)\u001b[0m\n\u001b[0;32m    196\u001b[0m \u001b[38;5;28;01mif\u001b[39;00m pred_kwds \u001b[38;5;129;01mis\u001b[39;00m \u001b[38;5;28;01mNone\u001b[39;00m:\n\u001b[0;32m    197\u001b[0m     pred_kwds \u001b[38;5;241m=\u001b[39m {}\n\u001b[1;32m--> 198\u001b[0m predicted_mean \u001b[38;5;241m=\u001b[39m \u001b[38;5;28mself\u001b[39m\u001b[38;5;241m.\u001b[39mmodel\u001b[38;5;241m.\u001b[39mpredict(\u001b[38;5;28mself\u001b[39m\u001b[38;5;241m.\u001b[39mparams, exog, \u001b[38;5;241m*\u001b[39m\u001b[38;5;241m*\u001b[39mpred_kwds)\n\u001b[0;32m    200\u001b[0m covb \u001b[38;5;241m=\u001b[39m \u001b[38;5;28mself\u001b[39m\u001b[38;5;241m.\u001b[39mcov_params()\n\u001b[0;32m    201\u001b[0m var_pred_mean \u001b[38;5;241m=\u001b[39m (exog \u001b[38;5;241m*\u001b[39m np\u001b[38;5;241m.\u001b[39mdot(covb, exog\u001b[38;5;241m.\u001b[39mT)\u001b[38;5;241m.\u001b[39mT)\u001b[38;5;241m.\u001b[39msum(\u001b[38;5;241m1\u001b[39m)\n",
      "File \u001b[1;32m~\\miniconda3\\lib\\site-packages\\statsmodels\\regression\\linear_model.py:412\u001b[0m, in \u001b[0;36mRegressionModel.predict\u001b[1;34m(self, params, exog)\u001b[0m\n\u001b[0;32m    409\u001b[0m \u001b[38;5;28;01mif\u001b[39;00m exog \u001b[38;5;129;01mis\u001b[39;00m \u001b[38;5;28;01mNone\u001b[39;00m:\n\u001b[0;32m    410\u001b[0m     exog \u001b[38;5;241m=\u001b[39m \u001b[38;5;28mself\u001b[39m\u001b[38;5;241m.\u001b[39mexog\n\u001b[1;32m--> 412\u001b[0m \u001b[38;5;28;01mreturn\u001b[39;00m \u001b[43mnp\u001b[49m\u001b[38;5;241;43m.\u001b[39;49m\u001b[43mdot\u001b[49m\u001b[43m(\u001b[49m\u001b[43mexog\u001b[49m\u001b[43m,\u001b[49m\u001b[43m \u001b[49m\u001b[43mparams\u001b[49m\u001b[43m)\u001b[49m\n",
      "\u001b[1;31mValueError\u001b[0m: shapes (100,4) and (3,) not aligned: 4 (dim 1) != 3 (dim 0)"
     ]
    }
   ],
   "source": [
    "final_GLMs.plot_length_nbnodes(shoot, model1, xlim=None)"
   ]
  },
  {
   "cell_type": "code",
   "execution_count": null,
   "id": "439a227a-194b-4ad0-9d22-7fbf8d21085b",
   "metadata": {},
   "outputs": [],
   "source": []
  }
 ],
 "metadata": {
  "kernelspec": {
   "display_name": "Python 3 (ipykernel)",
   "language": "python",
   "name": "python3"
  },
  "language_info": {
   "codemirror_mode": {
    "name": "ipython",
    "version": 3
   },
   "file_extension": ".py",
   "mimetype": "text/x-python",
   "name": "python",
   "nbconvert_exporter": "python",
   "pygments_lexer": "ipython3",
   "version": "3.9.19"
  }
 },
 "nbformat": 4,
 "nbformat_minor": 5
}
