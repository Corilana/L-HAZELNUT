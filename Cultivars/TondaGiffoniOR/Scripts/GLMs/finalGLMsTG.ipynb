{
 "cells": [
  {
   "cell_type": "markdown",
   "id": "ca563935-ce4f-4d35-95fb-d05d847e8a67",
   "metadata": {},
   "source": [
    "## Script with the finals GLMs used to create L-HAZELNUT model. \n",
    "data: DERUTA 2020\n",
    "PhD: Francesca Grisafi"
   ]
  },
  {
   "cell_type": "code",
   "execution_count": 1,
   "id": "2f5b5ad0-8940-4008-b5c9-029acfb19efd",
   "metadata": {},
   "outputs": [],
   "source": [
    "import importnb\n",
    "import sys\n",
    "import pandas as pd\n",
    "import os"
   ]
  },
  {
   "cell_type": "code",
   "execution_count": 2,
   "id": "514df305-8e62-40fc-b1c0-0431b6327a8c",
   "metadata": {},
   "outputs": [],
   "source": [
    "def find_dir(start_path, last_folder):\n",
    "    '''\n",
    "    This function traverses up the directory tree from the starting path\n",
    "    until it finds a directory that ends with the specified folder name.\n",
    "\n",
    "    Parameters:\n",
    "    - start_path (str): The starting directory path.\n",
    "    - last_folder (str): The folder name to look for at the end of the directory.\n",
    "\n",
    "    Returns:\n",
    "    - str: The path of the repo directory if found, otherwise None.\n",
    "    '''\n",
    "    current_path = start_path\n",
    "    while True:\n",
    "        if current_path.endswith(f\"\\\\{last_folder}\"):\n",
    "            #print(f\"{current_path} is {last_folder} path\")\n",
    "            return current_path\n",
    "        else:\n",
    "            #print(f\"{current_path} is not the {last_folder} directory\")\n",
    "            parent_path = os.path.dirname(current_path)\n",
    "            if parent_path == current_path:  # If we've reached the root directory\n",
    "                #print(f\"Reached the root directory without finding the {last_folder} directory\")\n",
    "                return None\n",
    "            current_path = parent_path"
   ]
  },
  {
   "cell_type": "code",
   "execution_count": 7,
   "id": "0b44712b-3413-4dd3-b7d8-f82078e99962",
   "metadata": {},
   "outputs": [],
   "source": [
    "#directory corrente\n",
    "current_dir = os.path.abspath('')\n",
    "import_path = find_dir(current_dir, \"L-HAZELNUT\")\n",
    "import_path = os.path.join(import_path,\"Scripts\")\n",
    "sys.path.append(import_path)"
   ]
  },
  {
   "cell_type": "code",
   "execution_count": 8,
   "id": "4c515a08-4a76-49cf-ace0-11c58a2e7e3d",
   "metadata": {},
   "outputs": [
    {
     "name": "stdout",
     "output_type": "stream",
     "text": [
      "File presenti nella directory:\n",
      "['.ipynb_checkpoints', 'Annual_shoot.py', 'GLMs', 'Import_Dataset.py', 'Lateral_buds.py', '__init__.py', '__pycache__']\n"
     ]
    }
   ],
   "source": [
    "files = os.listdir(import_path)\n",
    "print(\"File presenti nella directory:\")\n",
    "print(files)"
   ]
  },
  {
   "cell_type": "code",
   "execution_count": 9,
   "id": "a178ada9-a951-410b-aa77-40ae1fb09e2e",
   "metadata": {},
   "outputs": [],
   "source": [
    "import Import_Dataset"
   ]
  },
  {
   "cell_type": "code",
   "execution_count": 10,
   "id": "07befa40-7e91-4830-a0f4-d74a4f272443",
   "metadata": {},
   "outputs": [
    {
     "name": "stdout",
     "output_type": "stream",
     "text": [
      "File presenti nella directory:\n",
      "['final_models_functions.py', 'final_models_plots.py', '__init__.py', '__pycache__']\n"
     ]
    }
   ],
   "source": [
    "import_path = os.path.join(import_path,\"GLMs\")\n",
    "sys.path.append(import_path)\n",
    "files = os.listdir(import_path)\n",
    "print(\"File presenti nella directory:\")\n",
    "print(files)"
   ]
  },
  {
   "cell_type": "code",
   "execution_count": 11,
   "id": "13ef0359-0bcd-4a29-ae95-f919f9dbf09e",
   "metadata": {},
   "outputs": [],
   "source": [
    "import final_models_functions"
   ]
  },
  {
   "cell_type": "code",
   "execution_count": 12,
   "id": "7c8525dd-96ed-4efa-953d-fe476c1074a3",
   "metadata": {},
   "outputs": [],
   "source": [
    "file_paths = {\n",
    "    'bud': \"../../Data/bud.csv\",\n",
    "    'bud_proleptic': '../../Data/bud_proleptic.csv',\n",
    "    'bud_sylleptic': '../../Data/bud_sylleptic.csv',\n",
    "    'MV_bud_pro': '../../Data/MV_bud_pro.csv',\n",
    "    'MV_bud_syl': '../../Data/MV_bud_syl.csv',\n",
    "    'met_proleptic': '../../Data/met_proleptic.csv',\n",
    "    'met_sylleptic': '../../Data/met_sylleptic.csv',\n",
    "    'all_met_proleptic': '../../Data/all_met_proleptic.csv',\n",
    "    'all_met_sylleptic': '../../Data/all_met_sylleptic.csv',\n",
    "    'shoot': '../../Data/shoot.csv'\n",
    "}\n",
    "\n",
    "data = Import_Dataset.importdataset(**file_paths)"
   ]
  },
  {
   "cell_type": "code",
   "execution_count": 13,
   "id": "3621eafc-765f-470f-aed2-450e8f5658b7",
   "metadata": {},
   "outputs": [],
   "source": [
    "for name,dict_ in data.items():\n",
    "    globals()[name] = dict_"
   ]
  },
  {
   "cell_type": "code",
   "execution_count": 15,
   "id": "7a979c89-3eaf-4a25-a91f-f53a9b730af1",
   "metadata": {},
   "outputs": [
    {
     "name": "stdout",
     "output_type": "stream",
     "text": [
      "                            OLS Regression Results                            \n",
      "==============================================================================\n",
      "Dep. Variable:                   node   R-squared:                       0.896\n",
      "Model:                            OLS   Adj. R-squared:                  0.894\n",
      "Method:                 Least Squares   F-statistic:                     434.1\n",
      "Date:                Fri, 31 May 2024   Prob (F-statistic):           2.54e-50\n",
      "Time:                        15:48:04   Log-Likelihood:                -207.59\n",
      "No. Observations:                 104   AIC:                             421.2\n",
      "Df Residuals:                     101   BIC:                             429.1\n",
      "Df Model:                           2                                         \n",
      "Covariance Type:            nonrobust                                         \n",
      "==============================================================================\n",
      "                 coef    std err          t      P>|t|      [0.025      0.975]\n",
      "------------------------------------------------------------------------------\n",
      "const         -0.3510      0.588     -0.597      0.552      -1.517       0.815\n",
      "length_05      2.2656      0.189     11.984      0.000       1.891       2.641\n",
      "length_2       0.0006      0.000      1.638      0.104      -0.000       0.001\n",
      "==============================================================================\n",
      "Omnibus:                        3.385   Durbin-Watson:                   1.638\n",
      "Prob(Omnibus):                  0.184   Jarque-Bera (JB):                2.788\n",
      "Skew:                           0.297   Prob(JB):                        0.248\n",
      "Kurtosis:                       3.539   Cond. No.                     4.75e+03\n",
      "==============================================================================\n",
      "\n",
      "Notes:\n",
      "[1] Standard Errors assume that the covariance matrix of the errors is correctly specified.\n",
      "[2] The condition number is large, 4.75e+03. This might indicate that there are\n",
      "strong multicollinearity or other numerical problems.\n",
      "AIC shootnbnodesfromlength_proba: 421.18802798562865\n"
     ]
    }
   ],
   "source": [
    "model1 = final_models_functions.shootnbnodesfromlength_proba(shoot)"
   ]
  },
  {
   "cell_type": "code",
   "execution_count": null,
   "id": "439a227a-194b-4ad0-9d22-7fbf8d21085b",
   "metadata": {},
   "outputs": [],
   "source": []
  }
 ],
 "metadata": {
  "kernelspec": {
   "display_name": "Python 3 (ipykernel)",
   "language": "python",
   "name": "python3"
  },
  "language_info": {
   "codemirror_mode": {
    "name": "ipython",
    "version": 3
   },
   "file_extension": ".py",
   "mimetype": "text/x-python",
   "name": "python",
   "nbconvert_exporter": "python",
   "pygments_lexer": "ipython3",
   "version": "3.9.19"
  }
 },
 "nbformat": 4,
 "nbformat_minor": 5
}
