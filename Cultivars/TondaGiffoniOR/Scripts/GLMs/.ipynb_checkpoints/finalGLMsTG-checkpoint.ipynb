{
 "cells": [
  {
   "cell_type": "markdown",
   "id": "ca563935-ce4f-4d35-95fb-d05d847e8a67",
   "metadata": {},
   "source": [
    "## Script with the finals GLMs used to create L-HAZELNUT model. \n",
    "data: DERUTA 2020\n",
    "PhD: Francesca Grisafi"
   ]
  },
  {
   "cell_type": "code",
   "execution_count": 1,
   "id": "2f5b5ad0-8940-4008-b5c9-029acfb19efd",
   "metadata": {},
   "outputs": [],
   "source": [
    "import importnb\n",
    "import sys\n",
    "import pandas as pd\n",
    "import os"
   ]
  },
  {
   "cell_type": "code",
   "execution_count": 2,
   "id": "514df305-8e62-40fc-b1c0-0431b6327a8c",
   "metadata": {},
   "outputs": [],
   "source": [
    "def find_dir(start_path, last_folder):\n",
    "    '''\n",
    "    This function traverses up the directory tree from the starting path\n",
    "    until it finds a directory that ends with the specified folder name.\n",
    "\n",
    "    Parameters:\n",
    "    - start_path (str): The starting directory path.\n",
    "    - last_folder (str): The folder name to look for at the end of the directory.\n",
    "\n",
    "    Returns:\n",
    "    - str: The path of the repo directory if found, otherwise None.\n",
    "    '''\n",
    "    current_path = start_path\n",
    "    while True:\n",
    "        if current_path.endswith(f\"\\\\{last_folder}\"):\n",
    "            #print(f\"{current_path} is {last_folder} path\")\n",
    "            return current_path\n",
    "        else:\n",
    "            #print(f\"{current_path} is not the {last_folder} directory\")\n",
    "            parent_path = os.path.dirname(current_path)\n",
    "            if parent_path == current_path:  # If we've reached the root directory\n",
    "                #print(f\"Reached the root directory without finding the {last_folder} directory\")\n",
    "                return None\n",
    "            current_path = parent_path"
   ]
  },
  {
   "cell_type": "code",
   "execution_count": 3,
   "id": "0b44712b-3413-4dd3-b7d8-f82078e99962",
   "metadata": {},
   "outputs": [],
   "source": [
    "#directory corrente\n",
    "current_dir = os.path.abspath('')\n",
    "import_path = find_dir(current_dir, \"L-HAZELNUT\")\n",
    "import_path = os.path.join(import_path,\"Scripts\")\n",
    "sys.path.append(import_path)"
   ]
  },
  {
   "cell_type": "code",
   "execution_count": 4,
   "id": "4c515a08-4a76-49cf-ace0-11c58a2e7e3d",
   "metadata": {},
   "outputs": [
    {
     "name": "stdout",
     "output_type": "stream",
     "text": [
      "File presenti nella directory:\n",
      "['.ipynb_checkpoints', 'Annual_shoot.py', 'GLMs', 'Import_Dataset.py', 'Lateral_buds.py', '__init__.py', '__pycache__']\n"
     ]
    }
   ],
   "source": [
    "files = os.listdir(import_path)\n",
    "print(\"File presenti nella directory:\")\n",
    "print(files)"
   ]
  },
  {
   "cell_type": "code",
   "execution_count": 5,
   "id": "a178ada9-a951-410b-aa77-40ae1fb09e2e",
   "metadata": {},
   "outputs": [],
   "source": [
    "import Import_Dataset"
   ]
  },
  {
   "cell_type": "code",
   "execution_count": 6,
   "id": "07befa40-7e91-4830-a0f4-d74a4f272443",
   "metadata": {},
   "outputs": [
    {
     "name": "stdout",
     "output_type": "stream",
     "text": [
      "File presenti nella directory:\n",
      "['final_models_functions.py', 'final_models_plots.py', '__init__.py', '__pycache__']\n"
     ]
    }
   ],
   "source": [
    "import_path = os.path.join(import_path,\"GLMs\")\n",
    "sys.path.append(import_path)\n",
    "files = os.listdir(import_path)\n",
    "print(\"File presenti nella directory:\")\n",
    "print(files)"
   ]
  },
  {
   "cell_type": "code",
   "execution_count": 7,
   "id": "13ef0359-0bcd-4a29-ae95-f919f9dbf09e",
   "metadata": {},
   "outputs": [],
   "source": [
    "import final_models_functions"
   ]
  },
  {
   "cell_type": "code",
   "execution_count": 8,
   "id": "7c8525dd-96ed-4efa-953d-fe476c1074a3",
   "metadata": {},
   "outputs": [],
   "source": [
    "file_paths = {\n",
    "    'bud': \"../../Data/bud.csv\",\n",
    "    'bud_proleptic': '../../Data/bud_proleptic.csv',\n",
    "    'bud_sylleptic': '../../Data/bud_sylleptic.csv',\n",
    "    'MV_bud_pro': '../../Data/MV_bud_pro.csv',\n",
    "    'MV_bud_syl': '../../Data/MV_bud_syl.csv',\n",
    "    'met_proleptic': '../../Data/met_proleptic.csv',\n",
    "    'met_sylleptic': '../../Data/met_sylleptic.csv',\n",
    "    'all_met_proleptic': '../../Data/all_met_proleptic.csv',\n",
    "    'all_met_sylleptic': '../../Data/all_met_sylleptic.csv',\n",
    "    'shoot': '../../Data/shoot.csv'\n",
    "}\n",
    "\n",
    "data = Import_Dataset.importdataset(**file_paths)"
   ]
  },
  {
   "cell_type": "code",
   "execution_count": 9,
   "id": "3621eafc-765f-470f-aed2-450e8f5658b7",
   "metadata": {},
   "outputs": [
    {
     "name": "stdout",
     "output_type": "stream",
     "text": [
      "bud\n",
      "bud_proleptic\n",
      "bud_sylleptic\n",
      "MV_bud_PRO\n",
      "MV_bud_SYL\n",
      "met_proleptic\n",
      "met_sylleptic\n",
      "met_all_proleptic\n",
      "met_all_sylleptic\n",
      "shoot\n"
     ]
    }
   ],
   "source": [
    "for name,dict_ in data.items():\n",
    "    print(name)\n",
    "    globals()[name] = dict_"
   ]
  },
  {
   "cell_type": "markdown",
   "id": "0b6f5dfa-aac9-4d8d-953c-35c89a5cc20e",
   "metadata": {},
   "source": [
    "#### function for the relationship between length in cm and length in "
   ]
  },
  {
   "cell_type": "code",
   "execution_count": 10,
   "id": "7a979c89-3eaf-4a25-a91f-f53a9b730af1",
   "metadata": {},
   "outputs": [
    {
     "name": "stdout",
     "output_type": "stream",
     "text": [
      "                                 OLS Regression Results                                \n",
      "=======================================================================================\n",
      "Dep. Variable:                   node   R-squared (uncentered):                   0.976\n",
      "Model:                            OLS   Adj. R-squared (uncentered):              0.976\n",
      "Method:                 Least Squares   F-statistic:                              2107.\n",
      "Date:                Fri, 07 Jun 2024   Prob (F-statistic):                    1.11e-83\n",
      "Time:                        12:04:18   Log-Likelihood:                         -207.78\n",
      "No. Observations:                 104   AIC:                                      419.6\n",
      "Df Residuals:                     102   BIC:                                      424.8\n",
      "Df Model:                           2                                                  \n",
      "Covariance Type:            nonrobust                                                  \n",
      "==============================================================================\n",
      "                 coef    std err          t      P>|t|      [0.025      0.975]\n",
      "------------------------------------------------------------------------------\n",
      "length_05      2.1620      0.075     28.873      0.000       2.014       2.311\n",
      "length_2       0.0008      0.000      2.879      0.005       0.000       0.001\n",
      "==============================================================================\n",
      "Omnibus:                        4.702   Durbin-Watson:                   1.635\n",
      "Prob(Omnibus):                  0.095   Jarque-Bera (JB):                4.168\n",
      "Skew:                           0.374   Prob(JB):                        0.124\n",
      "Kurtosis:                       3.635   Cond. No.                         582.\n",
      "==============================================================================\n",
      "\n",
      "Notes:\n",
      "[1] R² is computed without centering (uncentered) since the model does not contain a constant.\n",
      "[2] Standard Errors assume that the covariance matrix of the errors is correctly specified.\n",
      "Residual Standard Error (RSE): 1.8015158451230233\n",
      "AIC shootnbnodesfromlength_proba: 419.5544508876757\n"
     ]
    },
    {
     "data": {
      "text/plain": [
       "<statsmodels.regression.linear_model.RegressionResultsWrapper at 0x1c44eba4a30>"
      ]
     },
     "execution_count": 10,
     "metadata": {},
     "output_type": "execute_result"
    }
   ],
   "source": [
    "final_models_functions.shootnbnodesfromlength_proba(shoot)"
   ]
  },
  {
   "cell_type": "markdown",
   "id": "c7d7eb07-44d4-4a0b-9bf6-f44e4ddb0a9f",
   "metadata": {},
   "source": [
    "#### has_blind_node"
   ]
  },
  {
   "cell_type": "code",
   "execution_count": 11,
   "id": "35115828-6813-47d9-a986-9644d38b7122",
   "metadata": {},
   "outputs": [
    {
     "name": "stdout",
     "output_type": "stream",
     "text": [
      "                 Generalized Linear Model Regression Results                  \n",
      "==============================================================================\n",
      "Dep. Variable:                      b   No. Observations:                 1062\n",
      "Model:                            GLM   Df Residuals:                     1061\n",
      "Model Family:                Binomial   Df Model:                            0\n",
      "Link Function:                  Logit   Scale:                          1.0000\n",
      "Method:                          IRLS   Log-Likelihood:                -288.29\n",
      "Date:                Fri, 07 Jun 2024   Deviance:                       576.58\n",
      "Time:                        12:04:18   Pearson chi2:                     804.\n",
      "No. Iterations:                     7   Pseudo R-squ. (CS):             0.1630\n",
      "Covariance Type:            nonrobust                                         \n",
      "==============================================================================\n",
      "                 coef    std err          z      P>|z|      [0.025      0.975]\n",
      "------------------------------------------------------------------------------\n",
      "rank_node     -0.4663      0.029    -15.915      0.000      -0.524      -0.409\n",
      "==============================================================================\n",
      "AIC has_blind_node_proba: 578.5784853302383\n"
     ]
    },
    {
     "data": {
      "text/plain": [
       "<statsmodels.genmod.generalized_linear_model.GLMResultsWrapper at 0x1c44f16ef10>"
      ]
     },
     "execution_count": 11,
     "metadata": {},
     "output_type": "execute_result"
    }
   ],
   "source": [
    "final_models_functions.has_blind_node_proba(met_proleptic)"
   ]
  },
  {
   "cell_type": "markdown",
   "id": "678af40b-fc08-47dc-9d38-cb541302e48e",
   "metadata": {},
   "source": [
    "#### probability to have sylleptic"
   ]
  },
  {
   "cell_type": "code",
   "execution_count": 12,
   "id": "9f2c7612-6619-4dc7-af1e-9360e5597957",
   "metadata": {},
   "outputs": [
    {
     "name": "stdout",
     "output_type": "stream",
     "text": [
      "                 Generalized Linear Model Regression Results                  \n",
      "==============================================================================\n",
      "Dep. Variable:      shoot_type_binary   No. Observations:                 1062\n",
      "Model:                            GLM   Df Residuals:                     1061\n",
      "Model Family:                Binomial   Df Model:                            0\n",
      "Link Function:                  Logit   Scale:                          1.0000\n",
      "Method:                          IRLS   Log-Likelihood:                -523.40\n",
      "Date:                Fri, 07 Jun 2024   Deviance:                       1046.8\n",
      "Time:                        12:04:18   Pearson chi2:                 1.03e+03\n",
      "No. Iterations:                     5   Pseudo R-squ. (CS):            0.05993\n",
      "Covariance Type:            nonrobust                                         \n",
      "============================================================================================\n",
      "                               coef    std err          z      P>|z|      [0.025      0.975]\n",
      "--------------------------------------------------------------------------------------------\n",
      "abs_norm_median_distance    -5.4752      0.328    -16.703      0.000      -6.118      -4.833\n",
      "============================================================================================\n",
      "AIC has_sylleptic_proba: 1048.8042858226001\n"
     ]
    },
    {
     "data": {
      "text/plain": [
       "<statsmodels.genmod.generalized_linear_model.GLMResultsWrapper at 0x1c4505a63a0>"
      ]
     },
     "execution_count": 12,
     "metadata": {},
     "output_type": "execute_result"
    }
   ],
   "source": [
    "final_models_functions.has_sylleptic_proba(met_proleptic)"
   ]
  },
  {
   "cell_type": "markdown",
   "id": "1b278e9c-318f-417f-b3c6-cae832d3aa32",
   "metadata": {},
   "source": [
    "#### number of buds inside sylleptic shoots"
   ]
  },
  {
   "cell_type": "code",
   "execution_count": 13,
   "id": "b74ba7d1-f18b-4c13-a45d-56d8bcdda8f6",
   "metadata": {},
   "outputs": [
    {
     "name": "stdout",
     "output_type": "stream",
     "text": [
      "                 Generalized Linear Model Regression Results                  \n",
      "==============================================================================\n",
      "Dep. Variable:       tot_buds_syl_m_v   No. Observations:                  231\n",
      "Model:                            GLM   Df Residuals:                      228\n",
      "Model Family:                 Poisson   Df Model:                            2\n",
      "Link Function:                    Log   Scale:                          1.0000\n",
      "Method:                          IRLS   Log-Likelihood:                -385.74\n",
      "Date:                Fri, 07 Jun 2024   Deviance:                       217.83\n",
      "Time:                        12:04:18   Pearson chi2:                     190.\n",
      "No. Iterations:                     4   Pseudo R-squ. (CS):             0.1595\n",
      "Covariance Type:            nonrobust                                         \n",
      "============================================================================================\n",
      "                               coef    std err          z      P>|z|      [0.025      0.975]\n",
      "--------------------------------------------------------------------------------------------\n",
      "const                        0.8065      0.111      7.282      0.000       0.589       1.024\n",
      "parent_length_cm             0.0111      0.003      4.115      0.000       0.006       0.016\n",
      "abs_norm_median_distance    -1.9720      0.394     -5.005      0.000      -2.744      -1.200\n",
      "============================================================================================\n",
      "AIC: nb_mv_in_sylleptic_lambda 777.4732917046234\n"
     ]
    }
   ],
   "source": [
    "final_models_functions.nb_mv_in_sylleptic_lambda(met_sylleptic)"
   ]
  },
  {
   "cell_type": "markdown",
   "id": "9f7dcfb3-be49-471b-a2ee-d0dbad0f452c",
   "metadata": {},
   "source": [
    "#### poisson function for number of V buds in proleptic shoots"
   ]
  },
  {
   "cell_type": "code",
   "execution_count": 14,
   "id": "d28837a4-26e2-4116-867f-1f40945f2fb3",
   "metadata": {},
   "outputs": [
    {
     "name": "stdout",
     "output_type": "stream",
     "text": [
      "                 Generalized Linear Model Regression Results                  \n",
      "==============================================================================\n",
      "Dep. Variable:            fate_binary   No. Observations:                  522\n",
      "Model:                            GLM   Df Residuals:                      521\n",
      "Model Family:                Binomial   Df Model:                            0\n",
      "Link Function:                  Logit   Scale:                          1.0000\n",
      "Method:                          IRLS   Log-Likelihood:                -361.36\n",
      "Date:                Fri, 07 Jun 2024   Deviance:                       722.72\n",
      "Time:                        12:04:18   Pearson chi2:                     522.\n",
      "No. Iterations:                     3   Pseudo R-squ. (CS):              0.000\n",
      "Covariance Type:            nonrobust                                         \n",
      "==============================================================================\n",
      "                 coef    std err          z      P>|z|      [0.025      0.975]\n",
      "------------------------------------------------------------------------------\n",
      "const          0.0843      0.088      0.963      0.336      -0.087       0.256\n",
      "==============================================================================\n",
      "AIC SYL_mv_proportion: 724.7181787533291\n"
     ]
    },
    {
     "data": {
      "text/plain": [
       "<statsmodels.genmod.generalized_linear_model.GLMResultsWrapper at 0x1c4505b5e20>"
      ]
     },
     "execution_count": 14,
     "metadata": {},
     "output_type": "execute_result"
    }
   ],
   "source": [
    "final_models_functions.nb_v_in_sylleptic_lambda(MV_bud_SYL)"
   ]
  },
  {
   "cell_type": "markdown",
   "id": "75c62c52-5b6f-45b9-855e-0b7f7898a7b3",
   "metadata": {},
   "source": [
    "#### probability of bursting in sylleptic shoots (MOD4)"
   ]
  },
  {
   "cell_type": "code",
   "execution_count": 15,
   "id": "b5b2da4d-40b5-459b-b396-57fafc4f73ba",
   "metadata": {},
   "outputs": [
    {
     "name": "stdout",
     "output_type": "stream",
     "text": [
      "Optimization terminated successfully.\n",
      "         Current function value: 0.631469\n",
      "         Iterations 5\n",
      "                           Logit Regression Results                           \n",
      "==============================================================================\n",
      "Dep. Variable:          nb_new_shoots   No. Observations:                  522\n",
      "Model:                          Logit   Df Residuals:                      517\n",
      "Method:                           MLE   Df Model:                            4\n",
      "Date:                Fri, 07 Jun 2024   Pseudo R-squ.:                 0.08510\n",
      "Time:                        12:04:18   Log-Likelihood:                -329.63\n",
      "converged:                       True   LL-Null:                       -360.29\n",
      "Covariance Type:            nonrobust   LLR p-value:                 1.528e-12\n",
      "==============================================================================\n",
      "                 coef    std err          z      P>|z|      [0.025      0.975]\n",
      "------------------------------------------------------------------------------\n",
      "Intercept      1.2464      0.201      6.202      0.000       0.853       1.640\n",
      "m:fate[M]     -0.7439      0.111     -6.701      0.000      -0.961      -0.526\n",
      "m:fate[V]     -0.1647      0.132     -1.252      0.211      -0.423       0.093\n",
      "v:fate[M]     -0.3292      0.129     -2.545      0.011      -0.583      -0.076\n",
      "v:fate[V]     -0.5799      0.120     -4.834      0.000      -0.815      -0.345\n",
      "==============================================================================\n",
      "AIC: burst_in_sylleptic_proba 669.2536854189749\n"
     ]
    }
   ],
   "source": [
    "final_models_functions.burst_in_sylleptic_proba(MV_bud_SYL)"
   ]
  },
  {
   "cell_type": "markdown",
   "id": "24df3c42-79d2-4f84-a072-e512e9932f21",
   "metadata": {},
   "source": [
    "#### gamma dist number of nodes of new shoots(MOD5)"
   ]
  },
  {
   "cell_type": "code",
   "execution_count": 16,
   "id": "f34a8203-67ce-4d15-9d79-b0ee2b9f5836",
   "metadata": {},
   "outputs": [
    {
     "name": "stdout",
     "output_type": "stream",
     "text": [
      "AIC: length_new_in_sylleptic 856.0128672373229\n"
     ]
    },
    {
     "data": {
      "text/plain": [
       "(2.376534320583779,\n",
       " 0.8351225805838078,\n",
       " 856.0128672373229,\n",
       "         x         y\n",
       " 0     0.0  0.000000\n",
       " 1     0.1  0.020589\n",
       " 2     0.2  0.049176\n",
       " 3     0.3  0.079046\n",
       " 4     0.4  0.108042\n",
       " ..    ...       ...\n",
       " 96    9.6  0.003952\n",
       " 97    9.7  0.003687\n",
       " 98    9.8  0.003440\n",
       " 99    9.9  0.003209\n",
       " 100  10.0  0.002993\n",
       " \n",
       " [101 rows x 2 columns])"
      ]
     },
     "execution_count": 16,
     "metadata": {},
     "output_type": "execute_result"
    }
   ],
   "source": [
    "final_models_functions.length_new_in_sylleptic(MV_bud_SYL)"
   ]
  },
  {
   "cell_type": "markdown",
   "id": "6a753220-17fd-4abc-bf80-ea6239005925",
   "metadata": {},
   "source": [
    "#### nb_buds in proleptic"
   ]
  },
  {
   "cell_type": "code",
   "execution_count": 17,
   "id": "f75406ea-7c57-471e-a25f-e8f09903e092",
   "metadata": {},
   "outputs": [
    {
     "name": "stdout",
     "output_type": "stream",
     "text": [
      "                 Generalized Linear Model Regression Results                  \n",
      "==============================================================================\n",
      "Dep. Variable:            tot_buds_mv   No. Observations:                  707\n",
      "Model:                            GLM   Df Residuals:                      706\n",
      "Model Family:                 Poisson   Df Model:                            0\n",
      "Link Function:                    Log   Scale:                          1.0000\n",
      "Method:                          IRLS   Log-Likelihood:                -782.11\n",
      "Date:                Fri, 07 Jun 2024   Deviance:                       101.14\n",
      "Time:                        12:04:19   Pearson chi2:                     163.\n",
      "No. Iterations:                     4   Pseudo R-squ. (CS):              0.000\n",
      "Covariance Type:            nonrobust                                         \n",
      "==============================================================================\n",
      "                 coef    std err          z      P>|z|      [0.025      0.975]\n",
      "------------------------------------------------------------------------------\n",
      "const          0.1236      0.035      3.495      0.000       0.054       0.193\n",
      "==============================================================================\n",
      "AIC nb_mv_in_proleptic_lambda: 1566.2290377251275\n"
     ]
    },
    {
     "data": {
      "text/plain": [
       "<statsmodels.genmod.generalized_linear_model.GLMResultsWrapper at 0x1c4505fa460>"
      ]
     },
     "execution_count": 17,
     "metadata": {},
     "output_type": "execute_result"
    }
   ],
   "source": [
    "final_models_functions.nb_mv_in_proleptic_lambda(met_proleptic)"
   ]
  },
  {
   "cell_type": "markdown",
   "id": "91b2a5b7-c199-491d-8030-91a7b6d8d5c7",
   "metadata": {},
   "source": [
    "#### bud type in proleptic shoots"
   ]
  },
  {
   "cell_type": "code",
   "execution_count": 112,
   "id": "472c74f9-0f04-4115-b558-825ce40abec6",
   "metadata": {},
   "outputs": [],
   "source": [
    "import pandas as pd\n",
    "import numpy as np\n",
    "import statsmodels.api as sm\n",
    "from sklearn.preprocessing import LabelEncoder"
   ]
  },
  {
   "cell_type": "code",
   "execution_count": 113,
   "id": "042bca6f-5968-4e03-8a07-261017415c4e",
   "metadata": {},
   "outputs": [],
   "source": [
    "data_poly = bud_proleptic[bud_proleptic[\"rank_node\"] <= 16].copy()\n",
    "data_poly = data_poly[data_poly[\"fate\"] != \"B\"].copy()\n",
    "data_poly['rank_node0_5'] = data_poly['rank_node'] ** 0.5\n",
    "data_poly['rank_node2'] = data_poly['rank_node'] ** 2\n",
    "data_poly['rank_node3'] = data_poly['rank_node'] ** 3\n",
    "data_poly['rank_node4'] = data_poly['rank_node'] ** 4"
   ]
  },
  {
   "cell_type": "code",
   "execution_count": 120,
   "id": "fe9bb544-69af-4c54-af50-7c18da49e6c7",
   "metadata": {},
   "outputs": [
    {
     "data": {
      "text/plain": [
       "array(['V', 'M'], dtype=object)"
      ]
     },
     "execution_count": 120,
     "metadata": {},
     "output_type": "execute_result"
    }
   ],
   "source": [
    "data_poly['fate'].unique()"
   ]
  },
  {
   "cell_type": "code",
   "execution_count": 121,
   "id": "14007237-f7e8-42cf-9b2c-e902d0c32377",
   "metadata": {},
   "outputs": [
    {
     "data": {
      "text/plain": [
       "array([1, 0])"
      ]
     },
     "execution_count": 121,
     "metadata": {},
     "output_type": "execute_result"
    }
   ],
   "source": [
    "# Encode the categorical variable 'fate'\n",
    "label_encoder = LabelEncoder()\n",
    "data_poly['fate_encoded'] = label_encoder.fit_transform(data_poly['fate'])\n",
    "data_poly['fate_encoded'].unique()"
   ]
  },
  {
   "cell_type": "code",
   "execution_count": 116,
   "id": "29d203db-a3f1-42d8-b237-d678933f2c9b",
   "metadata": {},
   "outputs": [],
   "source": [
    "X = data_poly[['rank_node', 'rank_node0_5', 'rank_node2', 'rank_node3', 'rank_node4']]\n",
    "X = sm.add_constant(X)  # Adds a constant term to the model"
   ]
  },
  {
   "cell_type": "code",
   "execution_count": 117,
   "id": "4677ae04-c921-485b-a591-15b9f0c55ed8",
   "metadata": {},
   "outputs": [
    {
     "name": "stdout",
     "output_type": "stream",
     "text": [
      "Optimization terminated successfully.\n",
      "         Current function value: 0.634245\n",
      "         Iterations 5\n"
     ]
    }
   ],
   "source": [
    "y = data_poly['fate_encoded']\n",
    "\n",
    "# Fit the multinomial logistic regression model\n",
    "model = sm.MNLogit(y, X)\n",
    "result = model.fit()"
   ]
  },
  {
   "cell_type": "code",
   "execution_count": 111,
   "id": "788f484e-1fa7-4bb8-b86f-fcfa35165f11",
   "metadata": {},
   "outputs": [
    {
     "name": "stdout",
     "output_type": "stream",
     "text": [
      "                          MNLogit Regression Results                          \n",
      "==============================================================================\n",
      "Dep. Variable:           fate_encoded   No. Observations:                  750\n",
      "Model:                        MNLogit   Df Residuals:                      744\n",
      "Method:                           MLE   Df Model:                            5\n",
      "Date:                Fri, 07 Jun 2024   Pseudo R-squ.:                 0.07700\n",
      "Time:                        12:55:17   Log-Likelihood:                -475.68\n",
      "converged:                       True   LL-Null:                       -515.37\n",
      "Covariance Type:            nonrobust   LLR p-value:                 1.137e-15\n",
      "==================================================================================\n",
      "fate_encoded=1       coef    std err          z      P>|z|      [0.025      0.975]\n",
      "----------------------------------------------------------------------------------\n",
      "const              1.0413      5.419      0.192      0.848      -9.579      11.662\n",
      "rank_node         -0.4165      4.951     -0.084      0.933     -10.120       9.287\n",
      "rank_node0_5       0.4041      9.815      0.041      0.967     -18.832      19.640\n",
      "rank_node2        -0.0423      0.446     -0.095      0.924      -0.916       0.832\n",
      "rank_node3         0.0072      0.027      0.264      0.792      -0.046       0.060\n",
      "rank_node4        -0.0002      0.001     -0.324      0.746      -0.001       0.001\n",
      "==================================================================================\n"
     ]
    }
   ],
   "source": [
    "print(result.summary())"
   ]
  },
  {
   "cell_type": "code",
   "execution_count": 119,
   "id": "8bd364b0-a970-4fcb-839f-41835a30654b",
   "metadata": {},
   "outputs": [
    {
     "ename": "AttributeError",
     "evalue": "'MNLogit' object has no attribute 'coef'",
     "output_type": "error",
     "traceback": [
      "\u001b[1;31m---------------------------------------------------------------------------\u001b[0m",
      "\u001b[1;31mAttributeError\u001b[0m                            Traceback (most recent call last)",
      "Cell \u001b[1;32mIn[119], line 2\u001b[0m\n\u001b[0;32m      1\u001b[0m \u001b[38;5;66;03m# Compute the exponentiated coefficients\u001b[39;00m\n\u001b[1;32m----> 2\u001b[0m exp_coef \u001b[38;5;241m=\u001b[39m np\u001b[38;5;241m.\u001b[39mexp(\u001b[43mmodel\u001b[49m\u001b[38;5;241;43m.\u001b[39;49m\u001b[43mcoef\u001b[49m)\n\u001b[0;32m      3\u001b[0m \u001b[38;5;28mprint\u001b[39m(\u001b[38;5;124m\"\u001b[39m\u001b[38;5;124mExponentiated Coefficients:\u001b[39m\u001b[38;5;130;01m\\n\u001b[39;00m\u001b[38;5;124m\"\u001b[39m, exp_coef)\n",
      "\u001b[1;31mAttributeError\u001b[0m: 'MNLogit' object has no attribute 'coef'"
     ]
    }
   ],
   "source": [
    "    # Compute the exponentiated coefficients\n",
    "    exp_coef = np.exp(model.coef)\n",
    "    print(\"Exponentiated Coefficients:\\n\", exp_coef)"
   ]
  },
  {
   "cell_type": "code",
   "execution_count": 18,
   "id": "f7e9890d-58a1-45c0-a3f1-903a81735307",
   "metadata": {},
   "outputs": [
    {
     "ename": "ValueError",
     "evalue": "Pandas data cast to numpy dtype of object. Check input data with np.asarray(data).",
     "output_type": "error",
     "traceback": [
      "\u001b[1;31m---------------------------------------------------------------------------\u001b[0m",
      "\u001b[1;31mValueError\u001b[0m                                Traceback (most recent call last)",
      "Cell \u001b[1;32mIn[18], line 1\u001b[0m\n\u001b[1;32m----> 1\u001b[0m \u001b[43mfinal_models_functions\u001b[49m\u001b[38;5;241;43m.\u001b[39;49m\u001b[43mbud_type_in_proleptic\u001b[49m\u001b[43m(\u001b[49m\u001b[43mbud_proleptic\u001b[49m\u001b[43m)\u001b[49m\n",
      "File \u001b[1;32m~\\Desktop\\Ricerca\\Progetti\\L-HAZELNUT\\L-HAZELNUT\\Scripts\\GLMs\\final_models_functions.py:271\u001b[0m, in \u001b[0;36mbud_type_in_proleptic\u001b[1;34m(bud_proleptic, response_col, predictor_col, ranklimit, degree)\u001b[0m\n\u001b[0;32m    268\u001b[0m \u001b[38;5;66;03m# Adding a constant term\u001b[39;00m\n\u001b[0;32m    269\u001b[0m X \u001b[38;5;241m=\u001b[39m sm\u001b[38;5;241m.\u001b[39madd_constant(X)\n\u001b[1;32m--> 271\u001b[0m model \u001b[38;5;241m=\u001b[39m \u001b[43msm\u001b[49m\u001b[38;5;241;43m.\u001b[39;49m\u001b[43mMNLogit\u001b[49m\u001b[43m(\u001b[49m\u001b[43my\u001b[49m\u001b[43m,\u001b[49m\u001b[43m \u001b[49m\u001b[43mX\u001b[49m\u001b[43m)\u001b[49m\u001b[38;5;241m.\u001b[39mfit()\n\u001b[0;32m    273\u001b[0m \u001b[38;5;66;03m# Print the summary of the model\u001b[39;00m\n\u001b[0;32m    274\u001b[0m \u001b[38;5;28mprint\u001b[39m(model\u001b[38;5;241m.\u001b[39msummary())\n",
      "File \u001b[1;32m~\\miniconda3\\lib\\site-packages\\statsmodels\\discrete\\discrete_model.py:2990\u001b[0m, in \u001b[0;36mMNLogit.__init__\u001b[1;34m(self, endog, exog, check_rank, **kwargs)\u001b[0m\n\u001b[0;32m   2989\u001b[0m \u001b[38;5;28;01mdef\u001b[39;00m \u001b[38;5;21m__init__\u001b[39m(\u001b[38;5;28mself\u001b[39m, endog, exog, check_rank\u001b[38;5;241m=\u001b[39m\u001b[38;5;28;01mTrue\u001b[39;00m, \u001b[38;5;241m*\u001b[39m\u001b[38;5;241m*\u001b[39mkwargs):\n\u001b[1;32m-> 2990\u001b[0m     \u001b[38;5;28msuper\u001b[39m()\u001b[38;5;241m.\u001b[39m\u001b[38;5;21m__init__\u001b[39m(endog, exog, check_rank\u001b[38;5;241m=\u001b[39mcheck_rank, \u001b[38;5;241m*\u001b[39m\u001b[38;5;241m*\u001b[39mkwargs)\n\u001b[0;32m   2992\u001b[0m     \u001b[38;5;66;03m# Override cov_names since multivariate model\u001b[39;00m\n\u001b[0;32m   2993\u001b[0m     yname \u001b[38;5;241m=\u001b[39m \u001b[38;5;28mself\u001b[39m\u001b[38;5;241m.\u001b[39mendog_names\n",
      "File \u001b[1;32m~\\miniconda3\\lib\\site-packages\\statsmodels\\discrete\\discrete_model.py:475\u001b[0m, in \u001b[0;36mBinaryModel.__init__\u001b[1;34m(self, endog, exog, offset, check_rank, **kwargs)\u001b[0m\n\u001b[0;32m    472\u001b[0m \u001b[38;5;28;01mdef\u001b[39;00m \u001b[38;5;21m__init__\u001b[39m(\u001b[38;5;28mself\u001b[39m, endog, exog, offset\u001b[38;5;241m=\u001b[39m\u001b[38;5;28;01mNone\u001b[39;00m, check_rank\u001b[38;5;241m=\u001b[39m\u001b[38;5;28;01mTrue\u001b[39;00m, \u001b[38;5;241m*\u001b[39m\u001b[38;5;241m*\u001b[39mkwargs):\n\u001b[0;32m    473\u001b[0m     \u001b[38;5;66;03m# unconditional check, requires no extra kwargs added by subclasses\u001b[39;00m\n\u001b[0;32m    474\u001b[0m     \u001b[38;5;28mself\u001b[39m\u001b[38;5;241m.\u001b[39m_check_kwargs(kwargs)\n\u001b[1;32m--> 475\u001b[0m     \u001b[38;5;28msuper\u001b[39m()\u001b[38;5;241m.\u001b[39m\u001b[38;5;21m__init__\u001b[39m(endog, exog, offset\u001b[38;5;241m=\u001b[39moffset, check_rank\u001b[38;5;241m=\u001b[39mcheck_rank,\n\u001b[0;32m    476\u001b[0m                      \u001b[38;5;241m*\u001b[39m\u001b[38;5;241m*\u001b[39mkwargs)\n\u001b[0;32m    477\u001b[0m     \u001b[38;5;28;01mif\u001b[39;00m \u001b[38;5;129;01mnot\u001b[39;00m \u001b[38;5;28missubclass\u001b[39m(\u001b[38;5;28mself\u001b[39m\u001b[38;5;241m.\u001b[39m\u001b[38;5;18m__class__\u001b[39m, MultinomialModel):\n\u001b[0;32m    478\u001b[0m         \u001b[38;5;28;01mif\u001b[39;00m \u001b[38;5;129;01mnot\u001b[39;00m np\u001b[38;5;241m.\u001b[39mall((\u001b[38;5;28mself\u001b[39m\u001b[38;5;241m.\u001b[39mendog \u001b[38;5;241m>\u001b[39m\u001b[38;5;241m=\u001b[39m \u001b[38;5;241m0\u001b[39m) \u001b[38;5;241m&\u001b[39m (\u001b[38;5;28mself\u001b[39m\u001b[38;5;241m.\u001b[39mendog \u001b[38;5;241m<\u001b[39m\u001b[38;5;241m=\u001b[39m \u001b[38;5;241m1\u001b[39m)):\n",
      "File \u001b[1;32m~\\miniconda3\\lib\\site-packages\\statsmodels\\discrete\\discrete_model.py:185\u001b[0m, in \u001b[0;36mDiscreteModel.__init__\u001b[1;34m(self, endog, exog, check_rank, **kwargs)\u001b[0m\n\u001b[0;32m    183\u001b[0m \u001b[38;5;28;01mdef\u001b[39;00m \u001b[38;5;21m__init__\u001b[39m(\u001b[38;5;28mself\u001b[39m, endog, exog, check_rank\u001b[38;5;241m=\u001b[39m\u001b[38;5;28;01mTrue\u001b[39;00m, \u001b[38;5;241m*\u001b[39m\u001b[38;5;241m*\u001b[39mkwargs):\n\u001b[0;32m    184\u001b[0m     \u001b[38;5;28mself\u001b[39m\u001b[38;5;241m.\u001b[39m_check_rank \u001b[38;5;241m=\u001b[39m check_rank\n\u001b[1;32m--> 185\u001b[0m     \u001b[38;5;28msuper\u001b[39m()\u001b[38;5;241m.\u001b[39m\u001b[38;5;21m__init__\u001b[39m(endog, exog, \u001b[38;5;241m*\u001b[39m\u001b[38;5;241m*\u001b[39mkwargs)\n\u001b[0;32m    186\u001b[0m     \u001b[38;5;28mself\u001b[39m\u001b[38;5;241m.\u001b[39mraise_on_perfect_prediction \u001b[38;5;241m=\u001b[39m \u001b[38;5;28;01mFalse\u001b[39;00m  \u001b[38;5;66;03m# keep for backwards compat\u001b[39;00m\n\u001b[0;32m    187\u001b[0m     \u001b[38;5;28mself\u001b[39m\u001b[38;5;241m.\u001b[39mk_extra \u001b[38;5;241m=\u001b[39m \u001b[38;5;241m0\u001b[39m\n",
      "File \u001b[1;32m~\\miniconda3\\lib\\site-packages\\statsmodels\\base\\model.py:270\u001b[0m, in \u001b[0;36mLikelihoodModel.__init__\u001b[1;34m(self, endog, exog, **kwargs)\u001b[0m\n\u001b[0;32m    269\u001b[0m \u001b[38;5;28;01mdef\u001b[39;00m \u001b[38;5;21m__init__\u001b[39m(\u001b[38;5;28mself\u001b[39m, endog, exog\u001b[38;5;241m=\u001b[39m\u001b[38;5;28;01mNone\u001b[39;00m, \u001b[38;5;241m*\u001b[39m\u001b[38;5;241m*\u001b[39mkwargs):\n\u001b[1;32m--> 270\u001b[0m     \u001b[38;5;28msuper\u001b[39m()\u001b[38;5;241m.\u001b[39m\u001b[38;5;21m__init__\u001b[39m(endog, exog, \u001b[38;5;241m*\u001b[39m\u001b[38;5;241m*\u001b[39mkwargs)\n\u001b[0;32m    271\u001b[0m     \u001b[38;5;28mself\u001b[39m\u001b[38;5;241m.\u001b[39minitialize()\n",
      "File \u001b[1;32m~\\miniconda3\\lib\\site-packages\\statsmodels\\base\\model.py:95\u001b[0m, in \u001b[0;36mModel.__init__\u001b[1;34m(self, endog, exog, **kwargs)\u001b[0m\n\u001b[0;32m     93\u001b[0m missing \u001b[38;5;241m=\u001b[39m kwargs\u001b[38;5;241m.\u001b[39mpop(\u001b[38;5;124m'\u001b[39m\u001b[38;5;124mmissing\u001b[39m\u001b[38;5;124m'\u001b[39m, \u001b[38;5;124m'\u001b[39m\u001b[38;5;124mnone\u001b[39m\u001b[38;5;124m'\u001b[39m)\n\u001b[0;32m     94\u001b[0m hasconst \u001b[38;5;241m=\u001b[39m kwargs\u001b[38;5;241m.\u001b[39mpop(\u001b[38;5;124m'\u001b[39m\u001b[38;5;124mhasconst\u001b[39m\u001b[38;5;124m'\u001b[39m, \u001b[38;5;28;01mNone\u001b[39;00m)\n\u001b[1;32m---> 95\u001b[0m \u001b[38;5;28mself\u001b[39m\u001b[38;5;241m.\u001b[39mdata \u001b[38;5;241m=\u001b[39m \u001b[38;5;28mself\u001b[39m\u001b[38;5;241m.\u001b[39m_handle_data(endog, exog, missing, hasconst,\n\u001b[0;32m     96\u001b[0m                               \u001b[38;5;241m*\u001b[39m\u001b[38;5;241m*\u001b[39mkwargs)\n\u001b[0;32m     97\u001b[0m \u001b[38;5;28mself\u001b[39m\u001b[38;5;241m.\u001b[39mk_constant \u001b[38;5;241m=\u001b[39m \u001b[38;5;28mself\u001b[39m\u001b[38;5;241m.\u001b[39mdata\u001b[38;5;241m.\u001b[39mk_constant\n\u001b[0;32m     98\u001b[0m \u001b[38;5;28mself\u001b[39m\u001b[38;5;241m.\u001b[39mexog \u001b[38;5;241m=\u001b[39m \u001b[38;5;28mself\u001b[39m\u001b[38;5;241m.\u001b[39mdata\u001b[38;5;241m.\u001b[39mexog\n",
      "File \u001b[1;32m~\\miniconda3\\lib\\site-packages\\statsmodels\\discrete\\discrete_model.py:707\u001b[0m, in \u001b[0;36mMultinomialModel._handle_data\u001b[1;34m(self, endog, exog, missing, hasconst, **kwargs)\u001b[0m\n\u001b[0;32m    704\u001b[0m     ynames \u001b[38;5;241m=\u001b[39m \u001b[38;5;28mdict\u001b[39m(\u001b[38;5;28mzip\u001b[39m(\u001b[38;5;28mrange\u001b[39m(endog_dummies\u001b[38;5;241m.\u001b[39mshape[\u001b[38;5;241m1\u001b[39m]), ynames))\n\u001b[0;32m    706\u001b[0m \u001b[38;5;28mself\u001b[39m\u001b[38;5;241m.\u001b[39m_ynames_map \u001b[38;5;241m=\u001b[39m ynames\n\u001b[1;32m--> 707\u001b[0m data \u001b[38;5;241m=\u001b[39m handle_data(endog_dummies, exog, missing, hasconst, \u001b[38;5;241m*\u001b[39m\u001b[38;5;241m*\u001b[39mkwargs)\n\u001b[0;32m    708\u001b[0m data\u001b[38;5;241m.\u001b[39mynames \u001b[38;5;241m=\u001b[39m yname  \u001b[38;5;66;03m# overwrite this to single endog name\u001b[39;00m\n\u001b[0;32m    709\u001b[0m data\u001b[38;5;241m.\u001b[39morig_endog \u001b[38;5;241m=\u001b[39m endog\n",
      "File \u001b[1;32m~\\miniconda3\\lib\\site-packages\\statsmodels\\base\\data.py:675\u001b[0m, in \u001b[0;36mhandle_data\u001b[1;34m(endog, exog, missing, hasconst, **kwargs)\u001b[0m\n\u001b[0;32m    672\u001b[0m     exog \u001b[38;5;241m=\u001b[39m np\u001b[38;5;241m.\u001b[39masarray(exog)\n\u001b[0;32m    674\u001b[0m klass \u001b[38;5;241m=\u001b[39m handle_data_class_factory(endog, exog)\n\u001b[1;32m--> 675\u001b[0m \u001b[38;5;28;01mreturn\u001b[39;00m klass(endog, exog\u001b[38;5;241m=\u001b[39mexog, missing\u001b[38;5;241m=\u001b[39mmissing, hasconst\u001b[38;5;241m=\u001b[39mhasconst,\n\u001b[0;32m    676\u001b[0m              \u001b[38;5;241m*\u001b[39m\u001b[38;5;241m*\u001b[39mkwargs)\n",
      "File \u001b[1;32m~\\miniconda3\\lib\\site-packages\\statsmodels\\base\\data.py:84\u001b[0m, in \u001b[0;36mModelData.__init__\u001b[1;34m(self, endog, exog, missing, hasconst, **kwargs)\u001b[0m\n\u001b[0;32m     82\u001b[0m     \u001b[38;5;28mself\u001b[39m\u001b[38;5;241m.\u001b[39morig_endog \u001b[38;5;241m=\u001b[39m endog\n\u001b[0;32m     83\u001b[0m     \u001b[38;5;28mself\u001b[39m\u001b[38;5;241m.\u001b[39morig_exog \u001b[38;5;241m=\u001b[39m exog\n\u001b[1;32m---> 84\u001b[0m     \u001b[38;5;28mself\u001b[39m\u001b[38;5;241m.\u001b[39mendog, \u001b[38;5;28mself\u001b[39m\u001b[38;5;241m.\u001b[39mexog \u001b[38;5;241m=\u001b[39m \u001b[38;5;28;43mself\u001b[39;49m\u001b[38;5;241;43m.\u001b[39;49m\u001b[43m_convert_endog_exog\u001b[49m\u001b[43m(\u001b[49m\u001b[43mendog\u001b[49m\u001b[43m,\u001b[49m\u001b[43m \u001b[49m\u001b[43mexog\u001b[49m\u001b[43m)\u001b[49m\n\u001b[0;32m     86\u001b[0m \u001b[38;5;28mself\u001b[39m\u001b[38;5;241m.\u001b[39mconst_idx \u001b[38;5;241m=\u001b[39m \u001b[38;5;28;01mNone\u001b[39;00m\n\u001b[0;32m     87\u001b[0m \u001b[38;5;28mself\u001b[39m\u001b[38;5;241m.\u001b[39mk_constant \u001b[38;5;241m=\u001b[39m \u001b[38;5;241m0\u001b[39m\n",
      "File \u001b[1;32m~\\miniconda3\\lib\\site-packages\\statsmodels\\base\\data.py:509\u001b[0m, in \u001b[0;36mPandasData._convert_endog_exog\u001b[1;34m(self, endog, exog)\u001b[0m\n\u001b[0;32m    507\u001b[0m exog \u001b[38;5;241m=\u001b[39m exog \u001b[38;5;28;01mif\u001b[39;00m exog \u001b[38;5;129;01mis\u001b[39;00m \u001b[38;5;28;01mNone\u001b[39;00m \u001b[38;5;28;01melse\u001b[39;00m np\u001b[38;5;241m.\u001b[39masarray(exog)\n\u001b[0;32m    508\u001b[0m \u001b[38;5;28;01mif\u001b[39;00m endog\u001b[38;5;241m.\u001b[39mdtype \u001b[38;5;241m==\u001b[39m \u001b[38;5;28mobject\u001b[39m \u001b[38;5;129;01mor\u001b[39;00m exog \u001b[38;5;129;01mis\u001b[39;00m \u001b[38;5;129;01mnot\u001b[39;00m \u001b[38;5;28;01mNone\u001b[39;00m \u001b[38;5;129;01mand\u001b[39;00m exog\u001b[38;5;241m.\u001b[39mdtype \u001b[38;5;241m==\u001b[39m \u001b[38;5;28mobject\u001b[39m:\n\u001b[1;32m--> 509\u001b[0m     \u001b[38;5;28;01mraise\u001b[39;00m \u001b[38;5;167;01mValueError\u001b[39;00m(\u001b[38;5;124m\"\u001b[39m\u001b[38;5;124mPandas data cast to numpy dtype of object. \u001b[39m\u001b[38;5;124m\"\u001b[39m\n\u001b[0;32m    510\u001b[0m                      \u001b[38;5;124m\"\u001b[39m\u001b[38;5;124mCheck input data with np.asarray(data).\u001b[39m\u001b[38;5;124m\"\u001b[39m)\n\u001b[0;32m    511\u001b[0m \u001b[38;5;28;01mreturn\u001b[39;00m \u001b[38;5;28msuper\u001b[39m()\u001b[38;5;241m.\u001b[39m_convert_endog_exog(endog, exog)\n",
      "\u001b[1;31mValueError\u001b[0m: Pandas data cast to numpy dtype of object. Check input data with np.asarray(data)."
     ]
    }
   ],
   "source": [
    "final_models_functions.bud_type_in_proleptic(bud_proleptic)"
   ]
  },
  {
   "cell_type": "code",
   "execution_count": null,
   "id": "5ddbef78-93e7-4139-aad8-4fce19b0772c",
   "metadata": {},
   "outputs": [],
   "source": []
  }
 ],
 "metadata": {
  "kernelspec": {
   "display_name": "Python 3 (ipykernel)",
   "language": "python",
   "name": "python3"
  },
  "language_info": {
   "codemirror_mode": {
    "name": "ipython",
    "version": 3
   },
   "file_extension": ".py",
   "mimetype": "text/x-python",
   "name": "python",
   "nbconvert_exporter": "python",
   "pygments_lexer": "ipython3",
   "version": "3.9.19"
  }
 },
 "nbformat": 4,
 "nbformat_minor": 5
}
