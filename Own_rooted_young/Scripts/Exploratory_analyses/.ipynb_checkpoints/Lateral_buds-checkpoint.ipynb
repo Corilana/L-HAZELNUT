{
 "cells": [
  {
   "cell_type": "markdown",
   "id": "6d878f54-381e-455c-a644-a092a75fc520",
   "metadata": {},
   "source": [
    "# Exploratory analysis of lateral buds\n",
    "\n",
    "## Frequency tables\n",
    "- AIM1:create a frequency table per each class length\n",
    "- AIM2:create a frequency table per each shoot type (prol/syl)\n",
    "- AIM3: create a frequency table per rank node IN SYLLEPTIC\n",
    "\n",
    "## Proleptic shoot type\n",
    "- AIM1: discover where are sylleptic shoots (metamer level)\n",
    "- AIM2: NB of observations (buds + sylleptic shoots) in proleptic 1yo shoots per CLASS LENGHT\n",
    "- AIM3: NB of observations (buds + sylleptic shoots) in proleptic 1yo shoots per RANK\n",
    "- AIM4: multiple buds in proleptic 1yo shoots per RANK\n",
    "\n",
    "data=shoots found in 2021 (Deruta)\n",
    "Phd=Francesca Grisafi"
   ]
  },
  {
   "cell_type": "markdown",
   "id": "f5c3ce80-9e0a-4940-a555-7b2f45c630f1",
   "metadata": {},
   "source": [
    "## Frequency tables"
   ]
  },
  {
   "cell_type": "markdown",
   "id": "bdbaf582-4c02-4813-867e-00fdaaf188bd",
   "metadata": {
    "jp-MarkdownHeadingCollapsed": true
   },
   "source": [
    "### AIM1: create a frequency table per each class length"
   ]
  },
  {
   "cell_type": "code",
   "execution_count": 1,
   "id": "c56f25af-72df-4485-8512-4475f3e23946",
   "metadata": {},
   "outputs": [],
   "source": [
    "%run ../Modify_dataset/IMPORT_DATASET.ipynb"
   ]
  },
  {
   "cell_type": "code",
   "execution_count": 2,
   "id": "df65cc24-e426-4dc7-abaa-593f76b4c38e",
   "metadata": {},
   "outputs": [
    {
     "name": "stdout",
     "output_type": "stream",
     "text": [
      "     nb_shoots  tot_buds_m_v_b_c  nb_new_shoots    V   B   C    M  \\\n",
      "VLo         25               671            442  284  33  71  283   \n",
      "Lo          28               577            348  212  36  88  241   \n",
      "Me          25               296            133   92  37  48  119   \n",
      "Sh          26               133             65   55  18  24   36   \n",
      "\n",
      "     new_shoot_VLo  new_shoot_Lo  new_shoot_Me  new_shoot_Sh  \n",
      "VLo              1             4            55           382  \n",
      "Lo               0             1            23           324  \n",
      "Me               0             0             7           126  \n",
      "Sh               0             0             4            61  \n"
     ]
    }
   ],
   "source": [
    "import pandas as pd\n",
    "\n",
    "def freq_table_class_length(bud_df:pd.DataFrame, class_column: str, fate_column: str,\n",
    "                           class_new_shoot_col: str, nb_new_shoots_col: str, shoot_id_col: str):\n",
    "    class_length = pd.DataFrame()\n",
    "\n",
    "    # Itera per ogni classe unica in `bud`.\n",
    "    for i in bud_df[class_column].unique():\n",
    "        class_buds = {}\n",
    "        class_newshoot = {}\n",
    "        \n",
    "        # Calcola la frequenza dei boccioli per ogni 'fate' all'interno della classe.\n",
    "        for j in bud_df[fate_column].unique():\n",
    "            class_buds[j] = len(bud_df[(bud_df[class_column] == i) & (bud_df[fate_column] == j)])\n",
    "        \n",
    "        # Calcola il numero di nuovi germogli per ogni classe all'interno della classe.\n",
    "        for q in bud_df[class_column].unique():\n",
    "            class_newshoot[f\"new_shoot_{q}\"] = bud_df[(bud_df[class_column] == i) & (bud_df[class_new_shoot_col] == q)][nb_new_shoots_col].sum(skipna=True)\n",
    "        \n",
    "        # Aggiunge i risultati al DataFrame `class_length`.\n",
    "        row_data = {'nb_shoots': bud_df[bud_df[class_column] == i][shoot_id_col].nunique(),\n",
    "                    'tot_buds_m_v_b_c': len(bud_df[bud_df[class_column] == i][fate_column]),\n",
    "                    'nb_new_shoots': bud_df[bud_df[class_column] == i][nb_new_shoots_col].sum(),\n",
    "                    **class_buds,\n",
    "                    **class_newshoot}\n",
    "        \n",
    "        # Crea un DataFrame temporaneo con i risultati per la classe corrente e lo appende a `class_length`.\n",
    "        temp_df = pd.DataFrame([row_data], index=[i])\n",
    "        class_length = pd.concat([class_length, temp_df])\n",
    "    \n",
    "    return class_length\n",
    "\n",
    "class_length = freq_table_class_length(bud, \"class\", \"fate\", \"length_newshoots\",\n",
    "                                      \"nb_new_shoots\", \"shoot_ID\")\n",
    "print(class_length)\n"
   ]
  },
  {
   "cell_type": "markdown",
   "id": "b363348a-f199-4cb8-97c6-e9d666751dfd",
   "metadata": {
    "jp-MarkdownHeadingCollapsed": true
   },
   "source": [
    "### AIM2: create a frequency table per each shoot type (prol/syl) "
   ]
  },
  {
   "cell_type": "code",
   "execution_count": 3,
   "id": "e25c256c-74fb-4bae-9a97-2413e7172dd7",
   "metadata": {},
   "outputs": [
    {
     "name": "stdout",
     "output_type": "stream",
     "text": [
      "  shoot_type  nb_shoots  buds_from_M  buds_from_V  new_shoot_from_V  \\\n",
      "0  PROLEPTIC        104          429          371               281   \n",
      "1  SYLLEPTIC         88          250          272               165   \n",
      "\n",
      "   new_shoot_from_B  new_shoot_from_C  new_shoot_from_M  nb_new_shoots  \\\n",
      "0                24                 0               379            684   \n",
      "1                 0                23               116            304   \n",
      "\n",
      "   bud_burst    errors  \n",
      "0   0.825000  0.035088  \n",
      "1   0.538314  0.075658  \n"
     ]
    }
   ],
   "source": [
    "def freq_table_prol_syl(bud_df:pd.DataFrame, shoot_type_col: str, fate_column: str,\n",
    "                        nb_new_shoots_col: str, shoot_id_col: str):\n",
    "\n",
    "    data_list = []\n",
    "    \n",
    "    # Itera per ogni classe unica in `bud`\n",
    "    for i in bud_df[shoot_type_col].unique():\n",
    "        data = {'shoot_type': i, 'nb_shoots': bud_df[bud_df[shoot_type_col] == i][shoot_id_col].nunique()}\n",
    "        \n",
    "        for j in [\"M\", \"V\"]:\n",
    "            data[f'buds_from_{j}'] = len(bud_df[(bud_df[shoot_type_col] == i) & (bud_df[fate_column] == j)])\n",
    "        \n",
    "        for q in bud[fate_column].unique():\n",
    "            data[f'new_shoot_from_{q}'] = bud_df[(bud_df[shoot_type_col] == i) & (bud_df[fate_column] == q)][nb_new_shoots_col].sum(skipna=True)\n",
    "        \n",
    "        data[nb_new_shoots_col] = bud_df[bud_df[shoot_type_col] == i][nb_new_shoots_col].sum()\n",
    "        \n",
    "        # Aggiunge i dati raccolti alla lista\n",
    "        data_list.append(data)\n",
    "    \n",
    "    # Converti la lista in DataFrame\n",
    "    shoot_type_summary = pd.DataFrame(data_list)\n",
    "    \n",
    "    # Calcola le proporzioni di \"bud burst\" e \"errors\"\n",
    "    shoot_type_summary['bud_burst'] = (shoot_type_summary['new_shoot_from_M'] + shoot_type_summary['new_shoot_from_V']) / (shoot_type_summary['buds_from_M'] + shoot_type_summary['buds_from_V'])\n",
    "    shoot_type_summary['errors'] = (shoot_type_summary['new_shoot_from_C'] + shoot_type_summary['new_shoot_from_B']) / shoot_type_summary['nb_new_shoots']\n",
    "    \n",
    "    return(shoot_type_summary)\n",
    "\n",
    "\n",
    "shoot_type_summary = freq_table_prol_syl(bud, \"shoot_type\", \"fate\",\n",
    "                                         \"nb_new_shoots\", \"shoot_ID\")\n",
    "print(shoot_type_summary)"
   ]
  },
  {
   "cell_type": "markdown",
   "id": "b38327c6-be9c-4d66-8f2d-a81c9a7fe93c",
   "metadata": {
    "jp-MarkdownHeadingCollapsed": true
   },
   "source": [
    "### AIM3: create a frequency table per each rank node IN SYLLEPTIC"
   ]
  },
  {
   "cell_type": "code",
   "execution_count": 5,
   "id": "2cd0b6c0-0108-4dd2-8193-ed44721dbace",
   "metadata": {},
   "outputs": [
    {
     "name": "stdout",
     "output_type": "stream",
     "text": [
      "  rank_node nb_shoots c_syl v_syl m_syl  b sums  %C_SYL  %V_SYL  %M_SYL   %B\n",
      "1         1         3     3     0     0  0    3   100.0    0.00    0.00  0.0\n",
      "2         2        11    11     8     9  0   28   100.0   72.73   81.82  0.0\n",
      "3         3        19    19    21    12  0   52   100.0  110.53   63.16  0.0\n",
      "4         4        25    25    29    21  0   75   100.0  116.00   84.00  0.0\n",
      "5         5        46    46    66    69  0  181   100.0  143.48  150.00  0.0\n"
     ]
    }
   ],
   "source": [
    "import numpy as np\n",
    "\n",
    "def freq_buds_in_rank_sylleptic(metamer_syl_df: pd.DataFrame, rank_node_col: str,\n",
    "                                c_col: str, v_col: str, m_col: str, b_col: str) -> pd.DataFrame:\n",
    "    \"\"\"\n",
    "    Calcola la frequenza dei germogli silleptici per ogni rango nodale.\n",
    "\n",
    "    Parametri:\n",
    "    - metamer_syl_df (pd.DataFrame): DataFrame contenente i dati sui metameri.\n",
    "    - rank_node_col (str): Nome della colonna che identifica il rango del nodo.\n",
    "    - c_col (str): Nome della colonna per i conteggi di germogli 'c'.\n",
    "    - v_col (str): Nome della colonna per i conteggi di germogli 'v'.\n",
    "    - m_col (str): Nome della colonna per i conteggi di germogli 'm'.\n",
    "    - b_col (str): Nome della colonna per i conteggi di germogli 'b'.\n",
    "\n",
    "    Ritorna:\n",
    "    pd.DataFrame: DataFrame riepilogativo con le frequenze dei germogli per rango nodale.\n",
    "    \"\"\"\n",
    "    \n",
    "    nline = len(metamer_syl_df[rank_node_col].unique())\n",
    "    tab_syl = pd.DataFrame(index=np.arange(1, nline + 1),\n",
    "                           columns=['rank_node', 'nb_shoots', c_col, v_col, m_col, b_col])\n",
    "\n",
    "    for q, Q in enumerate(sorted(metamer_syl_df[rank_node_col].unique()), 1):\n",
    "        subset = metamer_syl_df[metamer_syl_df[rank_node_col] == Q]\n",
    "        tab_syl.loc[q, 'rank_node'] = Q\n",
    "        tab_syl.loc[q, 'nb_shoots'] = len(subset)\n",
    "        tab_syl.loc[q, c_col] = subset[c_col].sum()\n",
    "        tab_syl.loc[q, v_col] = subset[v_col].sum()\n",
    "        tab_syl.loc[q, m_col] = subset[m_col].sum()\n",
    "        tab_syl.loc[q, b_col] = subset[b_col].sum()\n",
    "\n",
    "    # Aggiungere la somma per ogni colonna e per ogni riga\n",
    "    tab_syl.loc['sums', [c_col, v_col, m_col, b_col]] = tab_syl[[c_col, v_col, m_col, b_col]].sum()\n",
    "    tab_syl['sums'] = tab_syl[[c_col, v_col, m_col, b_col]].sum(axis=1)\n",
    "\n",
    "    #relative frequence\n",
    "    for col in [c_col, v_col, m_col, b_col]:\n",
    "        tab_syl[f'%{col.upper()}'] = (tab_syl[col].astype(float) / tab_syl['nb_shoots'].astype(float) * 100).round(2)\n",
    "\n",
    "    return tab_syl\n",
    "\n",
    "tab_syl = freq_buds_in_rank_sylleptic(met_sylleptic, 'parent_rank_node', 'c_syl', 'v_syl', 'm_syl', 'b')\n",
    "print(tab_syl.head())"
   ]
  },
  {
   "cell_type": "markdown",
   "id": "41b3e70b-6f05-4b38-b591-f96cbbb30fa0",
   "metadata": {},
   "source": [
    "## PROLEPTIC SHOOT TYPE"
   ]
  },
  {
   "cell_type": "markdown",
   "id": "56e257b7-9075-45e7-a59f-8dbea20bb10a",
   "metadata": {
    "jp-MarkdownHeadingCollapsed": true
   },
   "source": [
    "### AIM1: discover where are sylleptic shoots (metamer level)"
   ]
  },
  {
   "cell_type": "code",
   "execution_count": 6,
   "id": "3b5e86b5-356d-4ed5-8981-17a43e73ba6a",
   "metadata": {},
   "outputs": [
    {
     "name": "stdout",
     "output_type": "stream",
     "text": [
      "Index(['tesi', 'unit', 'length', 'unit_2', 'diam', 'class', 'shoot_ID', 'tree',\n",
      "       'Length(node)', 'rank_node', 'median_distance', 'norm_median_distance',\n",
      "       'abs_norm_median_distance', 'abs_median_distance', 'sylleptic', 'v',\n",
      "       'm', 'cl', 'nu', 'b', 'tot_buds_mvb', 'tot_buds_mv', 'shoot_type',\n",
      "       'nb_new_shoots', 'c_syl', 'v_syl', 'm_syl', 'tot_buds_syl_m_v',\n",
      "       'tot_buds_m_v_b_c'],\n",
      "      dtype='object')\n"
     ]
    }
   ],
   "source": [
    "import matplotlib.pyplot as plt\n",
    "\n",
    "print(met_proleptic.columns)\n",
    "\n",
    "def plot_scatter(df, x_col, y_col, title):\n",
    "    plt.scatter(df[x_col], df[y_col])\n",
    "    plt.title(title)\n",
    "    plt.xlabel(x_col)\n",
    "    plt.ylabel(y_col)\n",
    "    plt.show()"
   ]
  },
  {
   "cell_type": "code",
   "execution_count": 7,
   "id": "e329e652-50d5-4e08-ad0c-e8e129d7f510",
   "metadata": {},
   "outputs": [
    {
     "ename": "AttributeError",
     "evalue": "'SubplotSpec' object has no attribute 'rowspan'",
     "output_type": "error",
     "traceback": [
      "\u001b[1;31m---------------------------------------------------------------------------\u001b[0m",
      "\u001b[1;31mAttributeError\u001b[0m                            Traceback (most recent call last)",
      "Cell \u001b[1;32mIn[7], line 28\u001b[0m\n\u001b[0;32m     25\u001b[0m x_vars \u001b[38;5;241m=\u001b[39m [\u001b[38;5;124m'\u001b[39m\u001b[38;5;124mlength\u001b[39m\u001b[38;5;124m'\u001b[39m, \u001b[38;5;124m'\u001b[39m\u001b[38;5;124mrank_node\u001b[39m\u001b[38;5;124m'\u001b[39m, \u001b[38;5;124m'\u001b[39m\u001b[38;5;124mmedian_distance\u001b[39m\u001b[38;5;124m'\u001b[39m, \u001b[38;5;124m'\u001b[39m\u001b[38;5;124mabs_norm_median_distance\u001b[39m\u001b[38;5;124m'\u001b[39m, \u001b[38;5;124m'\u001b[39m\u001b[38;5;124mabs_median_distance\u001b[39m\u001b[38;5;124m'\u001b[39m, \u001b[38;5;124m'\u001b[39m\u001b[38;5;124mnorm_median_distance\u001b[39m\u001b[38;5;124m'\u001b[39m]\n\u001b[0;32m     27\u001b[0m \u001b[38;5;28;01mfor\u001b[39;00m ax, x_var \u001b[38;5;129;01min\u001b[39;00m \u001b[38;5;28mzip\u001b[39m(axes\u001b[38;5;241m.\u001b[39mflatten(), x_vars):\n\u001b[1;32m---> 28\u001b[0m     \u001b[43mplot_proportion\u001b[49m\u001b[43m(\u001b[49m\u001b[43mmet_proleptic\u001b[49m\u001b[43m,\u001b[49m\u001b[43m \u001b[49m\u001b[43mx_var\u001b[49m\u001b[43m,\u001b[49m\u001b[43m \u001b[49m\u001b[38;5;124;43m'\u001b[39;49m\u001b[38;5;124;43mshoot_type\u001b[39;49m\u001b[38;5;124;43m'\u001b[39;49m\u001b[43m,\u001b[49m\u001b[43m \u001b[49m\u001b[43max\u001b[49m\u001b[43m)\u001b[49m\n\u001b[0;32m     30\u001b[0m plt\u001b[38;5;241m.\u001b[39mtight_layout()\n\u001b[0;32m     31\u001b[0m plt\u001b[38;5;241m.\u001b[39mshow()\n",
      "Cell \u001b[1;32mIn[7], line 18\u001b[0m, in \u001b[0;36mplot_proportion\u001b[1;34m(df, x_var, cat_var, ax, num_bins)\u001b[0m\n\u001b[0;32m     15\u001b[0m proportions \u001b[38;5;241m=\u001b[39m proportions\u001b[38;5;241m.\u001b[39mdiv(proportions\u001b[38;5;241m.\u001b[39msum(axis\u001b[38;5;241m=\u001b[39m\u001b[38;5;241m1\u001b[39m), axis\u001b[38;5;241m=\u001b[39m\u001b[38;5;241m0\u001b[39m)\n\u001b[0;32m     17\u001b[0m \u001b[38;5;66;03m# Plot\u001b[39;00m\n\u001b[1;32m---> 18\u001b[0m \u001b[43mproportions\u001b[49m\u001b[38;5;241;43m.\u001b[39;49m\u001b[43mplot\u001b[49m\u001b[43m(\u001b[49m\u001b[43mkind\u001b[49m\u001b[38;5;241;43m=\u001b[39;49m\u001b[38;5;124;43m'\u001b[39;49m\u001b[38;5;124;43mbar\u001b[39;49m\u001b[38;5;124;43m'\u001b[39;49m\u001b[43m,\u001b[49m\u001b[43m \u001b[49m\u001b[43mstacked\u001b[49m\u001b[38;5;241;43m=\u001b[39;49m\u001b[38;5;28;43;01mTrue\u001b[39;49;00m\u001b[43m,\u001b[49m\u001b[43m \u001b[49m\u001b[43max\u001b[49m\u001b[38;5;241;43m=\u001b[39;49m\u001b[43max\u001b[49m\u001b[43m)\u001b[49m\n\u001b[0;32m     19\u001b[0m ax\u001b[38;5;241m.\u001b[39mset_title(\u001b[38;5;124mf\u001b[39m\u001b[38;5;124m'\u001b[39m\u001b[38;5;124mProportion of \u001b[39m\u001b[38;5;132;01m{\u001b[39;00mcat_var\u001b[38;5;132;01m}\u001b[39;00m\u001b[38;5;124m by \u001b[39m\u001b[38;5;132;01m{\u001b[39;00mx_var\u001b[38;5;132;01m}\u001b[39;00m\u001b[38;5;124m'\u001b[39m)\n\u001b[0;32m     20\u001b[0m ax\u001b[38;5;241m.\u001b[39mset_xlabel(x_var)\n",
      "File \u001b[1;32m~\\miniconda3\\lib\\site-packages\\pandas\\plotting\\_core.py:1030\u001b[0m, in \u001b[0;36mPlotAccessor.__call__\u001b[1;34m(self, *args, **kwargs)\u001b[0m\n\u001b[0;32m   1027\u001b[0m             label_name \u001b[38;5;241m=\u001b[39m label_kw \u001b[38;5;129;01mor\u001b[39;00m data\u001b[38;5;241m.\u001b[39mcolumns\n\u001b[0;32m   1028\u001b[0m             data\u001b[38;5;241m.\u001b[39mcolumns \u001b[38;5;241m=\u001b[39m label_name\n\u001b[1;32m-> 1030\u001b[0m \u001b[38;5;28;01mreturn\u001b[39;00m plot_backend\u001b[38;5;241m.\u001b[39mplot(data, kind\u001b[38;5;241m=\u001b[39mkind, \u001b[38;5;241m*\u001b[39m\u001b[38;5;241m*\u001b[39mkwargs)\n",
      "File \u001b[1;32m~\\miniconda3\\lib\\site-packages\\pandas\\plotting\\_matplotlib\\__init__.py:71\u001b[0m, in \u001b[0;36mplot\u001b[1;34m(data, kind, **kwargs)\u001b[0m\n\u001b[0;32m     69\u001b[0m         kwargs[\u001b[38;5;124m\"\u001b[39m\u001b[38;5;124max\u001b[39m\u001b[38;5;124m\"\u001b[39m] \u001b[38;5;241m=\u001b[39m \u001b[38;5;28mgetattr\u001b[39m(ax, \u001b[38;5;124m\"\u001b[39m\u001b[38;5;124mleft_ax\u001b[39m\u001b[38;5;124m\"\u001b[39m, ax)\n\u001b[0;32m     70\u001b[0m plot_obj \u001b[38;5;241m=\u001b[39m PLOT_CLASSES[kind](data, \u001b[38;5;241m*\u001b[39m\u001b[38;5;241m*\u001b[39mkwargs)\n\u001b[1;32m---> 71\u001b[0m \u001b[43mplot_obj\u001b[49m\u001b[38;5;241;43m.\u001b[39;49m\u001b[43mgenerate\u001b[49m\u001b[43m(\u001b[49m\u001b[43m)\u001b[49m\n\u001b[0;32m     72\u001b[0m plot_obj\u001b[38;5;241m.\u001b[39mdraw()\n\u001b[0;32m     73\u001b[0m \u001b[38;5;28;01mreturn\u001b[39;00m plot_obj\u001b[38;5;241m.\u001b[39mresult\n",
      "File \u001b[1;32m~\\miniconda3\\lib\\site-packages\\pandas\\plotting\\_matplotlib\\core.py:504\u001b[0m, in \u001b[0;36mMPLPlot.generate\u001b[1;34m(self)\u001b[0m\n\u001b[0;32m    502\u001b[0m \u001b[38;5;28mself\u001b[39m\u001b[38;5;241m.\u001b[39m_add_table()\n\u001b[0;32m    503\u001b[0m \u001b[38;5;28mself\u001b[39m\u001b[38;5;241m.\u001b[39m_make_legend()\n\u001b[1;32m--> 504\u001b[0m \u001b[38;5;28;43mself\u001b[39;49m\u001b[38;5;241;43m.\u001b[39;49m\u001b[43m_adorn_subplots\u001b[49m\u001b[43m(\u001b[49m\u001b[43mfig\u001b[49m\u001b[43m)\u001b[49m\n\u001b[0;32m    506\u001b[0m \u001b[38;5;28;01mfor\u001b[39;00m ax \u001b[38;5;129;01min\u001b[39;00m \u001b[38;5;28mself\u001b[39m\u001b[38;5;241m.\u001b[39maxes:\n\u001b[0;32m    507\u001b[0m     \u001b[38;5;28mself\u001b[39m\u001b[38;5;241m.\u001b[39m_post_plot_logic_common(ax)\n",
      "File \u001b[1;32m~\\miniconda3\\lib\\site-packages\\pandas\\plotting\\_matplotlib\\core.py:753\u001b[0m, in \u001b[0;36mMPLPlot._adorn_subplots\u001b[1;34m(self, fig)\u001b[0m\n\u001b[0;32m    751\u001b[0m     all_axes \u001b[38;5;241m=\u001b[39m \u001b[38;5;28mself\u001b[39m\u001b[38;5;241m.\u001b[39m_get_subplots(fig)\n\u001b[0;32m    752\u001b[0m     nrows, ncols \u001b[38;5;241m=\u001b[39m \u001b[38;5;28mself\u001b[39m\u001b[38;5;241m.\u001b[39m_get_axes_layout(fig)\n\u001b[1;32m--> 753\u001b[0m     \u001b[43mhandle_shared_axes\u001b[49m\u001b[43m(\u001b[49m\n\u001b[0;32m    754\u001b[0m \u001b[43m        \u001b[49m\u001b[43maxarr\u001b[49m\u001b[38;5;241;43m=\u001b[39;49m\u001b[43mall_axes\u001b[49m\u001b[43m,\u001b[49m\n\u001b[0;32m    755\u001b[0m \u001b[43m        \u001b[49m\u001b[43mnplots\u001b[49m\u001b[38;5;241;43m=\u001b[39;49m\u001b[38;5;28;43mlen\u001b[39;49m\u001b[43m(\u001b[49m\u001b[43mall_axes\u001b[49m\u001b[43m)\u001b[49m\u001b[43m,\u001b[49m\n\u001b[0;32m    756\u001b[0m \u001b[43m        \u001b[49m\u001b[43mnaxes\u001b[49m\u001b[38;5;241;43m=\u001b[39;49m\u001b[43mnrows\u001b[49m\u001b[43m \u001b[49m\u001b[38;5;241;43m*\u001b[39;49m\u001b[43m \u001b[49m\u001b[43mncols\u001b[49m\u001b[43m,\u001b[49m\n\u001b[0;32m    757\u001b[0m \u001b[43m        \u001b[49m\u001b[43mnrows\u001b[49m\u001b[38;5;241;43m=\u001b[39;49m\u001b[43mnrows\u001b[49m\u001b[43m,\u001b[49m\n\u001b[0;32m    758\u001b[0m \u001b[43m        \u001b[49m\u001b[43mncols\u001b[49m\u001b[38;5;241;43m=\u001b[39;49m\u001b[43mncols\u001b[49m\u001b[43m,\u001b[49m\n\u001b[0;32m    759\u001b[0m \u001b[43m        \u001b[49m\u001b[43msharex\u001b[49m\u001b[38;5;241;43m=\u001b[39;49m\u001b[38;5;28;43mself\u001b[39;49m\u001b[38;5;241;43m.\u001b[39;49m\u001b[43msharex\u001b[49m\u001b[43m,\u001b[49m\n\u001b[0;32m    760\u001b[0m \u001b[43m        \u001b[49m\u001b[43msharey\u001b[49m\u001b[38;5;241;43m=\u001b[39;49m\u001b[38;5;28;43mself\u001b[39;49m\u001b[38;5;241;43m.\u001b[39;49m\u001b[43msharey\u001b[49m\u001b[43m,\u001b[49m\n\u001b[0;32m    761\u001b[0m \u001b[43m    \u001b[49m\u001b[43m)\u001b[49m\n\u001b[0;32m    763\u001b[0m \u001b[38;5;28;01mfor\u001b[39;00m ax \u001b[38;5;129;01min\u001b[39;00m \u001b[38;5;28mself\u001b[39m\u001b[38;5;241m.\u001b[39maxes:\n\u001b[0;32m    764\u001b[0m     ax \u001b[38;5;241m=\u001b[39m \u001b[38;5;28mgetattr\u001b[39m(ax, \u001b[38;5;124m\"\u001b[39m\u001b[38;5;124mright_ax\u001b[39m\u001b[38;5;124m\"\u001b[39m, ax)\n",
      "File \u001b[1;32m~\\miniconda3\\lib\\site-packages\\pandas\\plotting\\_matplotlib\\tools.py:413\u001b[0m, in \u001b[0;36mhandle_shared_axes\u001b[1;34m(axarr, nplots, naxes, nrows, ncols, sharex, sharey)\u001b[0m\n\u001b[0;32m    411\u001b[0m layout \u001b[38;5;241m=\u001b[39m np\u001b[38;5;241m.\u001b[39mzeros((nrows \u001b[38;5;241m+\u001b[39m \u001b[38;5;241m1\u001b[39m, ncols \u001b[38;5;241m+\u001b[39m \u001b[38;5;241m1\u001b[39m), dtype\u001b[38;5;241m=\u001b[39mnp\u001b[38;5;241m.\u001b[39mbool_)\n\u001b[0;32m    412\u001b[0m \u001b[38;5;28;01mfor\u001b[39;00m ax \u001b[38;5;129;01min\u001b[39;00m axarr:\n\u001b[1;32m--> 413\u001b[0m     layout[\u001b[43mrow_num\u001b[49m\u001b[43m(\u001b[49m\u001b[43max\u001b[49m\u001b[43m)\u001b[49m, col_num(ax)] \u001b[38;5;241m=\u001b[39m ax\u001b[38;5;241m.\u001b[39mget_visible()\n\u001b[0;32m    415\u001b[0m \u001b[38;5;28;01mfor\u001b[39;00m ax \u001b[38;5;129;01min\u001b[39;00m axarr:\n\u001b[0;32m    416\u001b[0m     \u001b[38;5;66;03m# only the last row of subplots should get x labels -> all\u001b[39;00m\n\u001b[0;32m    417\u001b[0m     \u001b[38;5;66;03m# other off layout handles the case that the subplot is\u001b[39;00m\n\u001b[0;32m    418\u001b[0m     \u001b[38;5;66;03m# the last in the column, because below is no subplot/gap.\u001b[39;00m\n\u001b[0;32m    419\u001b[0m     \u001b[38;5;28;01mif\u001b[39;00m \u001b[38;5;129;01mnot\u001b[39;00m layout[row_num(ax) \u001b[38;5;241m+\u001b[39m \u001b[38;5;241m1\u001b[39m, col_num(ax)]:\n",
      "File \u001b[1;32m~\\miniconda3\\lib\\site-packages\\pandas\\plotting\\_matplotlib\\tools.py:402\u001b[0m, in \u001b[0;36mhandle_shared_axes.<locals>.<lambda>\u001b[1;34m(x)\u001b[0m\n\u001b[0;32m    392\u001b[0m \u001b[38;5;28;01mdef\u001b[39;00m \u001b[38;5;21mhandle_shared_axes\u001b[39m(\n\u001b[0;32m    393\u001b[0m     axarr: Iterable[Axes],\n\u001b[0;32m    394\u001b[0m     nplots: \u001b[38;5;28mint\u001b[39m,\n\u001b[1;32m   (...)\u001b[0m\n\u001b[0;32m    399\u001b[0m     sharey: \u001b[38;5;28mbool\u001b[39m,\n\u001b[0;32m    400\u001b[0m ) \u001b[38;5;241m-\u001b[39m\u001b[38;5;241m>\u001b[39m \u001b[38;5;28;01mNone\u001b[39;00m:\n\u001b[0;32m    401\u001b[0m     \u001b[38;5;28;01mif\u001b[39;00m nplots \u001b[38;5;241m>\u001b[39m \u001b[38;5;241m1\u001b[39m:\n\u001b[1;32m--> 402\u001b[0m         row_num \u001b[38;5;241m=\u001b[39m \u001b[38;5;28;01mlambda\u001b[39;00m x: \u001b[43mx\u001b[49m\u001b[38;5;241;43m.\u001b[39;49m\u001b[43mget_subplotspec\u001b[49m\u001b[43m(\u001b[49m\u001b[43m)\u001b[49m\u001b[38;5;241;43m.\u001b[39;49m\u001b[43mrowspan\u001b[49m\u001b[38;5;241m.\u001b[39mstart\n\u001b[0;32m    403\u001b[0m         col_num \u001b[38;5;241m=\u001b[39m \u001b[38;5;28;01mlambda\u001b[39;00m x: x\u001b[38;5;241m.\u001b[39mget_subplotspec()\u001b[38;5;241m.\u001b[39mcolspan\u001b[38;5;241m.\u001b[39mstart\n\u001b[0;32m    405\u001b[0m         is_first_col \u001b[38;5;241m=\u001b[39m \u001b[38;5;28;01mlambda\u001b[39;00m x: x\u001b[38;5;241m.\u001b[39mget_subplotspec()\u001b[38;5;241m.\u001b[39mis_first_col()\n",
      "\u001b[1;31mAttributeError\u001b[0m: 'SubplotSpec' object has no attribute 'rowspan'"
     ]
    },
    {
     "data": {
      "image/png": "[encoded data removed]",
      "text/plain": [
       "<Figure size 1400x1200 with 6 Axes>"
      ]
     },
     "metadata": {},
     "output_type": "display_data"
    }
   ],
   "source": [
    "import matplotlib.pyplot as plt\n",
    "import pandas as pd\n",
    "import numpy as np\n",
    "\n",
    "# Supponiamo che met_proleptic sia il DataFrame e che contenga una colonna 'shoot_type' categorica\n",
    "# e diverse colonne continue come 'length', 'rank_node', ecc.\n",
    "\n",
    "def plot_proportion(df, x_var, cat_var, ax, num_bins=10):\n",
    "    # Bin the continuous variable\n",
    "    bins = np.linspace(df[x_var].min(), df[x_var].max(), num_bins)\n",
    "    df['binned'] = pd.cut(df[x_var], bins, include_lowest=True)\n",
    "    \n",
    "    # Calcola la proporzione per ciascun bin\n",
    "    proportions = df.groupby(['binned', cat_var], observed=True).size().unstack().fillna(0)\n",
    "    proportions = proportions.div(proportions.sum(axis=1), axis=0)\n",
    "    \n",
    "    # Plot\n",
    "    proportions.plot(kind='bar', stacked=True, ax=ax)\n",
    "    ax.set_title(f'Proportion of {cat_var} by {x_var}')\n",
    "    ax.set_xlabel(x_var)\n",
    "    ax.set_ylabel('Proportion')\n",
    "\n",
    "# Creazione di subplot per ciascun x_var\n",
    "fig, axes = plt.subplots(3, 2, figsize=(14, 12))\n",
    "x_vars = ['length', 'rank_node', 'median_distance', 'abs_norm_median_distance', 'abs_median_distance', 'norm_median_distance']\n",
    "\n",
    "for ax, x_var in zip(axes.flatten(), x_vars):\n",
    "    plot_proportion(met_proleptic, x_var, 'shoot_type', ax)\n",
    "\n",
    "plt.tight_layout()\n",
    "plt.show()"
   ]
  },
  {
   "cell_type": "markdown",
   "id": "b56e6d19-60f9-4e71-addb-4db1fa78730f",
   "metadata": {},
   "source": [
    "###  AIM2: NB of observations (buds + sylleptic shoots) in proleptic 1yo shoots per CLASS LENGHT "
   ]
  },
  {
   "cell_type": "code",
   "execution_count": 8,
   "id": "df9242f3-c32b-4592-92a6-0503cfa5e9f6",
   "metadata": {},
   "outputs": [
    {
     "name": "stdout",
     "output_type": "stream",
     "text": [
      "  class  sylleptic    v    m   b  Total  %sylleptic         %v         %m  \\\n",
      "0   VLo         71  184  193  33    481   14.760915  38.253638  40.124740   \n",
      "1    Lo         88  103  156  36    383   22.976501  26.892950  40.731070   \n",
      "2    Me         48   44   56  37    185   25.945946  23.783784  30.270270   \n",
      "3    Sh         24   40   24  18    106   22.641509  37.735849  22.641509   \n",
      "\n",
      "          %b  \n",
      "0   6.860707  \n",
      "1   9.399478  \n",
      "2  20.000000  \n",
      "3  16.981132  \n"
     ]
    }
   ],
   "source": [
    "def calculate_class_summary(df, class_col, count_cols):\n",
    "    # Inizializza liste per raccogliere i dati\n",
    "    data = {col: [] for col in [class_col] + count_cols}\n",
    "    data['Total'] = []\n",
    "\n",
    "    # Aggrega i dati per classe\n",
    "    for i in df[class_col].unique():\n",
    "        subset = df[df[class_col] == i]\n",
    "        data[class_col].append(i)\n",
    "        for col in count_cols:\n",
    "            data[col].append(subset[col].sum())\n",
    "        data['Total'].append(subset[count_cols].sum().sum())\n",
    "\n",
    "    # Crea un DataFrame dai dati raccolti\n",
    "    summary_df = pd.DataFrame(data)\n",
    "\n",
    "    # Calcola le percentuali relative\n",
    "    for col in count_cols:\n",
    "        summary_df[f'%{col}'] = (summary_df[col] / summary_df['Total']) * 100\n",
    "\n",
    "    # Calcola la somma delle colonne e delle righe se necessario\n",
    "    # Aggiungi ulteriori operazioni qui...\n",
    "\n",
    "    return summary_df\n",
    "\n",
    "class_summary = calculate_class_summary(met_proleptic, 'class', ['sylleptic', 'v', 'm', 'b'])\n",
    "print(class_summary)"
   ]
  },
  {
   "cell_type": "code",
   "execution_count": 9,
   "id": "8f32c23b-5d02-44b9-9d75-7eed6770cc26",
   "metadata": {},
   "outputs": [
    {
     "ename": "TypeError",
     "evalue": "can't multiply sequence by non-int of type 'float'",
     "output_type": "error",
     "traceback": [
      "\u001b[1;31m---------------------------------------------------------------------------\u001b[0m",
      "\u001b[1;31mTypeError\u001b[0m                                 Traceback (most recent call last)",
      "Cell \u001b[1;32mIn[9], line 48\u001b[0m\n\u001b[0;32m     45\u001b[0m     plt\u001b[38;5;241m.\u001b[39mshow()\n\u001b[0;32m     47\u001b[0m \u001b[38;5;66;03m# Example usage of the function:\u001b[39;00m\n\u001b[1;32m---> 48\u001b[0m \u001b[43mplot_and_test\u001b[49m\u001b[43m(\u001b[49m\u001b[43mclass_summary\u001b[49m\u001b[43m,\u001b[49m\u001b[43m \u001b[49m\u001b[43mrow_slice\u001b[49m\u001b[38;5;241;43m=\u001b[39;49m\u001b[38;5;28;43mslice\u001b[39;49m\u001b[43m(\u001b[49m\u001b[38;5;241;43m0\u001b[39;49m\u001b[43m,\u001b[49m\u001b[38;5;241;43m4\u001b[39;49m\u001b[43m)\u001b[49m\u001b[43m,\u001b[49m\u001b[43m \u001b[49m\u001b[43mcol_slice\u001b[49m\u001b[38;5;241;43m=\u001b[39;49m\u001b[38;5;28;43mslice\u001b[39;49m\u001b[43m(\u001b[49m\u001b[38;5;241;43m6\u001b[39;49m\u001b[43m,\u001b[49m\u001b[38;5;241;43m10\u001b[39;49m\u001b[43m)\u001b[49m\u001b[43m,\u001b[49m\u001b[43m \u001b[49m\u001b[43mobs_col_index\u001b[49m\u001b[38;5;241;43m=\u001b[39;49m\u001b[38;5;241;43m5\u001b[39;49m\u001b[43m,\u001b[49m\n\u001b[0;32m     49\u001b[0m \u001b[43m              \u001b[49m\u001b[43mplot_title\u001b[49m\u001b[38;5;241;43m=\u001b[39;49m\u001b[38;5;124;43m'\u001b[39;49m\u001b[38;5;124;43mNb Lateral Buds or Shoot Class\u001b[39;49m\u001b[38;5;124;43m'\u001b[39;49m\u001b[43m,\u001b[49m\u001b[43m \u001b[49m\u001b[43mxlabel\u001b[49m\u001b[38;5;241;43m=\u001b[39;49m\u001b[38;5;124;43m'\u001b[39;49m\u001b[38;5;124;43mParent Class Length\u001b[39;49m\u001b[38;5;124;43m'\u001b[39;49m\u001b[43m,\u001b[49m\u001b[43m \u001b[49m\u001b[43mylabel\u001b[49m\u001b[38;5;241;43m=\u001b[39;49m\u001b[38;5;124;43m'\u001b[39;49m\u001b[38;5;124;43m%\u001b[39;49m\u001b[38;5;124;43m'\u001b[39;49m\u001b[43m)\u001b[49m\n",
      "Cell \u001b[1;32mIn[9], line 32\u001b[0m, in \u001b[0;36mplot_and_test\u001b[1;34m(data, row_slice, col_slice, obs_col_index, plot_title, xlabel, ylabel)\u001b[0m\n\u001b[0;32m     30\u001b[0m count_data \u001b[38;5;241m=\u001b[39m data\u001b[38;5;241m.\u001b[39miloc[row_slice, i]\n\u001b[0;32m     31\u001b[0m nobs \u001b[38;5;241m=\u001b[39m data\u001b[38;5;241m.\u001b[39miloc[row_slice, obs_col_index]\n\u001b[1;32m---> 32\u001b[0m stat, p_value \u001b[38;5;241m=\u001b[39m \u001b[43mproportions_ztest\u001b[49m\u001b[43m(\u001b[49m\u001b[43mcount_data\u001b[49m\u001b[43m,\u001b[49m\u001b[43m \u001b[49m\u001b[43mnobs\u001b[49m\u001b[43m)\u001b[49m\n\u001b[0;32m     33\u001b[0m \u001b[38;5;28mprint\u001b[39m(data\u001b[38;5;241m.\u001b[39mcolumns[i], p_value)\n\u001b[0;32m     34\u001b[0m \u001b[38;5;28;01mif\u001b[39;00m p_value \u001b[38;5;241m<\u001b[39m\u001b[38;5;241m=\u001b[39m \u001b[38;5;241m0.05\u001b[39m:\n\u001b[0;32m     35\u001b[0m     \u001b[38;5;66;03m# Perform pairwise test if significant\u001b[39;00m\n",
      "File \u001b[1;32m~\\miniconda3\\lib\\site-packages\\statsmodels\\stats\\proportion.py:1005\u001b[0m, in \u001b[0;36mproportions_ztest\u001b[1;34m(count, nobs, value, alternative, prop_var)\u001b[0m\n\u001b[0;32m   1002\u001b[0m \u001b[38;5;28;01mif\u001b[39;00m nobs\u001b[38;5;241m.\u001b[39msize \u001b[38;5;241m==\u001b[39m \u001b[38;5;241m1\u001b[39m:\n\u001b[0;32m   1003\u001b[0m     nobs \u001b[38;5;241m=\u001b[39m nobs \u001b[38;5;241m*\u001b[39m np\u001b[38;5;241m.\u001b[39mones_like(count)\n\u001b[1;32m-> 1005\u001b[0m prop \u001b[38;5;241m=\u001b[39m \u001b[43mcount\u001b[49m\u001b[43m \u001b[49m\u001b[38;5;241;43m*\u001b[39;49m\u001b[43m \u001b[49m\u001b[38;5;241;43m1.\u001b[39;49m \u001b[38;5;241m/\u001b[39m nobs\n\u001b[0;32m   1006\u001b[0m k_sample \u001b[38;5;241m=\u001b[39m np\u001b[38;5;241m.\u001b[39msize(prop)\n\u001b[0;32m   1007\u001b[0m \u001b[38;5;28;01mif\u001b[39;00m value \u001b[38;5;129;01mis\u001b[39;00m \u001b[38;5;28;01mNone\u001b[39;00m:\n",
      "\u001b[1;31mTypeError\u001b[0m: can't multiply sequence by non-int of type 'float'"
     ]
    },
    {
     "data": {
      "image/png": "[encoded data removed]",
      "text/plain": [
       "<Figure size 1200x900 with 1 Axes>"
      ]
     },
     "metadata": {},
     "output_type": "display_data"
    }
   ],
   "source": [
    "import pandas as pd\n",
    "import numpy as np\n",
    "import matplotlib.pyplot as plt\n",
    "from statsmodels.stats.proportion import proportions_ztest, proportions_chisquare\n",
    "\n",
    "def plot_and_test(data, row_slice, col_slice, obs_col_index, plot_title, xlabel, ylabel):\n",
    "    # Extract frequency matrix and column labels for the plot\n",
    "    freq = data.iloc[row_slice, col_slice].values\n",
    "    col_labels = data.columns[col_slice]\n",
    "\n",
    "    # Plotting setup\n",
    "    colors = plt.get_cmap('Set2')\n",
    "    fig, ax = plt.subplots(figsize=(12, 9))\n",
    "    x = np.arange(freq.shape[1])\n",
    "    width = 0.2  # Width of the bars\n",
    "\n",
    "    for i in range(freq.shape[0]):\n",
    "        ax.bar(x + i * width, freq[i, :], width, label=data.index[i], color=colors(i))\n",
    "\n",
    "    ax.set_xlabel(xlabel)\n",
    "    ax.set_ylabel(ylabel)\n",
    "    ax.set_title(plot_title)\n",
    "    ax.set_xticks(x + width / 2 * (freq.shape[0] - 1))\n",
    "    ax.set_xticklabels(col_labels)\n",
    "    ax.legend(title='Legend')\n",
    "    plt.ylim(0, 100)\n",
    "\n",
    "    # Statistical tests\n",
    "    for i in range(freq.shape[1]):\n",
    "        count_data = data.iloc[row_slice, i]\n",
    "        nobs = data.iloc[row_slice, obs_col_index]\n",
    "        stat, p_value = proportions_ztest(count_data, nobs)\n",
    "        print(data.columns[i], p_value)\n",
    "        if p_value <= 0.05:\n",
    "            # Perform pairwise test if significant\n",
    "            pairwise_tests = proportions_chisquare(count_data, nobs)\n",
    "            print(pairwise_tests)\n",
    "\n",
    "    # Adding labels on bars for significant differences\n",
    "    labels = np.array([['a', 'a', 'a', 'b'], ['a', 'ab', 'ab', 'a'], ['b', 'a', 'a', 'a'], ['a', 'a', 'b', 'b']])\n",
    "    for i in range(freq.shape[0]):\n",
    "        for j in range(freq.shape[1]):\n",
    "            ax.text(x[j] + i * width, freq[i, j] + 5, labels[i, j], color='black')\n",
    "\n",
    "    plt.show()\n",
    "\n",
    "# Example usage of the function:\n",
    "plot_and_test(class_summary, row_slice=slice(0,4), col_slice=slice(6,10), obs_col_index=5,\n",
    "              plot_title='Nb Lateral Buds or Shoot Class', xlabel='Parent Class Length', ylabel='%')\n"
   ]
  },
  {
   "cell_type": "code",
   "execution_count": null,
   "id": "e5d23768-9c51-4919-83df-17dbbfc54b13",
   "metadata": {},
   "outputs": [],
   "source": []
  }
 ],
 "metadata": {
  "kernelspec": {
   "display_name": "Python 3 (ipykernel)",
   "language": "python",
   "name": "python3"
  },
  "language_info": {
   "codemirror_mode": {
    "name": "ipython",
    "version": 3
   },
   "file_extension": ".py",
   "mimetype": "text/x-python",
   "name": "python",
   "nbconvert_exporter": "python",
   "pygments_lexer": "ipython3",
   "version": "3.9.18"
  }
 },
 "nbformat": 4,
 "nbformat_minor": 5
}
